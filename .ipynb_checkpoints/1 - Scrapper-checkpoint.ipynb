{
 "cells": [
  {
   "cell_type": "code",
   "execution_count": null,
   "metadata": {},
   "outputs": [],
   "source": [
    "import pandas as pd"
   ]
  },
  {
   "cell_type": "code",
   "execution_count": null,
   "metadata": {},
   "outputs": [],
   "source": [
    "PRE_PROCESSED_PATH = 'Fake.br-Corpus/preprocessed/pre-processed.csv'"
   ]
  },
  {
   "cell_type": "code",
   "execution_count": null,
   "metadata": {},
   "outputs": [],
   "source": [
    "pre_processed_data = pd.read_csv(PRE_PROCESSED_PATH,index_col=0)"
   ]
  },
  {
   "cell_type": "code",
   "execution_count": null,
   "metadata": {},
   "outputs": [],
   "source": [
    "all_texts = pre_processed_data['preprocessed_news'].to_list()"
   ]
  },
  {
   "cell_type": "code",
   "execution_count": null,
   "metadata": {},
   "outputs": [],
   "source": [
    "len(all_texts)"
   ]
  },
  {
   "cell_type": "code",
   "execution_count": null,
   "metadata": {},
   "outputs": [],
   "source": [
    "all_words = ' '.join(all_texts).split(' ')"
   ]
  },
  {
   "cell_type": "code",
   "execution_count": null,
   "metadata": {},
   "outputs": [],
   "source": [
    "len(all_words)"
   ]
  },
  {
   "cell_type": "code",
   "execution_count": null,
   "metadata": {},
   "outputs": [],
   "source": [
    "unique_words = set(all_words)"
   ]
  },
  {
   "cell_type": "code",
   "execution_count": null,
   "metadata": {},
   "outputs": [],
   "source": [
    "len(unique_words)"
   ]
  },
  {
   "cell_type": "code",
   "execution_count": null,
   "metadata": {},
   "outputs": [],
   "source": [
    "from selenium import webdriver\n",
    "from selenium.webdriver.chrome.options import Options\n",
    "import time\n",
    "import json"
   ]
  },
  {
   "cell_type": "code",
   "execution_count": null,
   "metadata": {},
   "outputs": [],
   "source": []
  },
  {
   "cell_type": "code",
   "execution_count": null,
   "metadata": {
    "scrolled": true
   },
   "outputs": [],
   "source": [
    "base_url = 'https://www.sinonimos.com.br/busca.php?q='\n",
    "folder = 'Sinonimos/'\n",
    "\n",
    "driver = webdriver.Chrome()\n",
    "\n",
    "errors = []\n",
    "sinonimos_dict = {}\n",
    "\n",
    "tot = len(unique_words)\n",
    "\n",
    "delta_n = 500\n",
    "n = 0\n",
    "\n",
    "size = len(list(unique_words))\n",
    "\n",
    "# Para cada palavra única no dataset, procura se existem sinônimos \n",
    "try:\n",
    "    aux = n+1\n",
    "    for pesquisa in list(unique_words)[n:]:\n",
    "        try:\n",
    "            driver.get(base_url + pesquisa)\n",
    "            existe = True\n",
    "            # Checa se não existem resultados\n",
    "\n",
    "            try:\n",
    "                driver.find_element_by_class_name('sem-resultados')\n",
    "                existe = False\n",
    "                print('ERROR: não existem resultados')\n",
    "            except:\n",
    "                pass\n",
    "\n",
    "\n",
    "            # Se o site indiciar outra palavra no lugar da pesquisa, se presume que ela não existe\n",
    "            try:\n",
    "                driver.find_element_by_id('quisdizer')\n",
    "                existe = False\n",
    "                print('ERROR: indicação de palavra')\n",
    "            except:\n",
    "                pass\n",
    "            \n",
    "            # Checa se existem sinônimos\n",
    "            sinonimos = []\n",
    "            if existe:\n",
    "                sinonimos_wraps = driver.find_elements_by_class_name('s-wrapper')\n",
    "                for wrap in sinonimos_wraps:\n",
    "                    sin_elements = wrap.find_elements_by_tag_name('a')\n",
    "                    sin_elements+= wrap.find_elements_by_tag_name('span')\n",
    "                    for element in sin_elements:\n",
    "                        element_text = element.text\n",
    "                        if ':' not in element_text:\n",
    "                            sinonimos.append(element_text)\n",
    "                \n",
    "                if len(sinonimos)>0:\n",
    "                    sinonimos_dict[pesquisa] = sinonimos\n",
    "                else:\n",
    "                    existe = False\n",
    "            \n",
    "            print(f\"\"\"palavra de pesquisa: {pesquisa}\\nexiste: {existe}\\nnumero de sinonimos: {len(sinonimos)}\"\"\")\n",
    "            \n",
    "            \n",
    "        except:\n",
    "            print(f\"ERROR:{pesquisa}\")\n",
    "            errors.append(pesquisa)\n",
    "        finally:\n",
    "            \n",
    "            print(f'{tot}:{aux}')\n",
    "            print('='*80)\n",
    "            \n",
    "            \n",
    "            # Termina o processo se todas palavras foram procuradas\n",
    "            if aux >= size:\n",
    "                with open(folder + f'sin_dict_{n}_{size}.json','w',encoding='UTF-8') as f:\n",
    "                    json.dump(sinonimos_dict,f,indent=6)\n",
    "                break\n",
    "            \n",
    "            # Buffer para evitar estourar a memória\n",
    "            # A cada delta_n palavras, salva o dicionário e limpa a vairável de sinônimos\n",
    "            if aux%delta_n == 0:\n",
    "                with open(folder + f'sin_dict_{n}_{n+delta_n-1}.json','w',encoding='UTF-8') as f:\n",
    "                    json.dump(sinonimos_dict,f,indent=6)\n",
    "                n+=delta_n\n",
    "                \n",
    "                sinonimos_dict = {}\n",
    "                print(\"CHECKPOINT_SAVED\")\n",
    "                print(\"=\"*80)\n",
    "                \n",
    "            aux+=1\n",
    "except Exception as e:\n",
    "    print(e)\n",
    "    \n",
    "finally:\n",
    "    driver.close()\n",
    "    driver.quit()"
   ]
  },
  {
   "cell_type": "code",
   "execution_count": null,
   "metadata": {},
   "outputs": [],
   "source": []
  }
 ],
 "metadata": {
  "kernelspec": {
   "display_name": "Python 3",
   "language": "python",
   "name": "python3"
  },
  "language_info": {
   "codemirror_mode": {
    "name": "ipython",
    "version": 3
   },
   "file_extension": ".py",
   "mimetype": "text/x-python",
   "name": "python",
   "nbconvert_exporter": "python",
   "pygments_lexer": "ipython3",
   "version": "3.8.3"
  }
 },
 "nbformat": 4,
 "nbformat_minor": 4
}
