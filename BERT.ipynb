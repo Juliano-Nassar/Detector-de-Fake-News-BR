{
 "cells": [
  {
   "cell_type": "markdown",
   "id": "f39c8add-c936-42c1-b61f-86bd28409864",
   "metadata": {},
   "source": [
    "## Pre Processed Data"
   ]
  },
  {
   "cell_type": "code",
   "execution_count": 1,
   "id": "9e0e83df-f323-4e0f-b806-fc83eaec92ee",
   "metadata": {},
   "outputs": [],
   "source": [
    "from pathlib import Path\n",
    "import pandas as pd\n",
    "import numpy as np"
   ]
  },
  {
   "cell_type": "code",
   "execution_count": 2,
   "id": "64ab4a79-4c01-47eb-a756-e06f14f18e76",
   "metadata": {},
   "outputs": [],
   "source": [
    "home_PATH = Path.cwd()\n",
    "preprocessed_PATH = Path(home_PATH,\"dados\",\"Fake.br-Corpus-master\",\"preprocessed\").glob('**/*')\n",
    "preprocessd_file = [x for x in preprocessed_PATH if x.is_file()]"
   ]
  },
  {
   "cell_type": "code",
   "execution_count": 3,
   "id": "81a4a6a2-1da5-4c6d-aef4-771bd13e87cb",
   "metadata": {},
   "outputs": [],
   "source": [
    "df = pd.read_csv(preprocessd_file[0]).drop(columns=['index'])"
   ]
  },
  {
   "cell_type": "code",
   "execution_count": 4,
   "id": "aac160e5-ebbe-42cc-9222-7e04574e4608",
   "metadata": {
    "tags": []
   },
   "outputs": [],
   "source": [
    "df = df.replace({'label': {'true': 1, 'fake': 0}})"
   ]
  },
  {
   "cell_type": "code",
   "execution_count": 5,
   "id": "dd3cc0f2-e754-4e7c-816e-63238e62cefd",
   "metadata": {},
   "outputs": [
    {
     "data": {
      "text/html": [
       "<div>\n",
       "<style scoped>\n",
       "    .dataframe tbody tr th:only-of-type {\n",
       "        vertical-align: middle;\n",
       "    }\n",
       "\n",
       "    .dataframe tbody tr th {\n",
       "        vertical-align: top;\n",
       "    }\n",
       "\n",
       "    .dataframe thead th {\n",
       "        text-align: right;\n",
       "    }\n",
       "</style>\n",
       "<table border=\"1\" class=\"dataframe\">\n",
       "  <thead>\n",
       "    <tr style=\"text-align: right;\">\n",
       "      <th></th>\n",
       "      <th>label</th>\n",
       "      <th>preprocessed_news</th>\n",
       "    </tr>\n",
       "  </thead>\n",
       "  <tbody>\n",
       "    <tr>\n",
       "      <th>0</th>\n",
       "      <td>0</td>\n",
       "      <td>katia abreu diz vai colocar expulsao moldura n...</td>\n",
       "    </tr>\n",
       "    <tr>\n",
       "      <th>1</th>\n",
       "      <td>0</td>\n",
       "      <td>ray peita bolsonaro conservador fake entrevist...</td>\n",
       "    </tr>\n",
       "    <tr>\n",
       "      <th>2</th>\n",
       "      <td>0</td>\n",
       "      <td>reinaldo azevedo desmascarado policia federal ...</td>\n",
       "    </tr>\n",
       "    <tr>\n",
       "      <th>3</th>\n",
       "      <td>0</td>\n",
       "      <td>relatorio assustador bndes mostra dinheiro pub...</td>\n",
       "    </tr>\n",
       "    <tr>\n",
       "      <th>4</th>\n",
       "      <td>0</td>\n",
       "      <td>radialista americano fala sobre pt vendem ilus...</td>\n",
       "    </tr>\n",
       "  </tbody>\n",
       "</table>\n",
       "</div>"
      ],
      "text/plain": [
       "   label                                  preprocessed_news\n",
       "0      0  katia abreu diz vai colocar expulsao moldura n...\n",
       "1      0  ray peita bolsonaro conservador fake entrevist...\n",
       "2      0  reinaldo azevedo desmascarado policia federal ...\n",
       "3      0  relatorio assustador bndes mostra dinheiro pub...\n",
       "4      0  radialista americano fala sobre pt vendem ilus..."
      ]
     },
     "execution_count": 5,
     "metadata": {},
     "output_type": "execute_result"
    }
   ],
   "source": [
    "df.head()"
   ]
  },
  {
   "cell_type": "code",
   "execution_count": 6,
   "id": "4a62be19-9b56-41f2-bd59-977c5a45e5b5",
   "metadata": {
    "tags": []
   },
   "outputs": [],
   "source": [
    "df = df.replace({'label': {'true': 1, 'fake': 0}})"
   ]
  },
  {
   "cell_type": "code",
   "execution_count": 7,
   "id": "055f7d8e-e0c0-482b-af38-ae9eb8601b89",
   "metadata": {
    "tags": []
   },
   "outputs": [],
   "source": [
    "corpus = list(df['preprocessed_news'])"
   ]
  },
  {
   "cell_type": "markdown",
   "id": "f00d4c07-f24a-492f-9f25-3cd7f48086bc",
   "metadata": {},
   "source": [
    "## Not Pre-Processed Data"
   ]
  },
  {
   "cell_type": "code",
   "execution_count": 8,
   "id": "c25f1f3b-c820-42e8-88e7-3243ab25b4f6",
   "metadata": {},
   "outputs": [
    {
     "name": "stdout",
     "output_type": "stream",
     "text": [
      "<generator object Path.glob at 0x00000246FBA92580>\n"
     ]
    }
   ],
   "source": [
    "home_PATH = Path.cwd()\n",
    "fake_PATH = Path(home_PATH,\"dados\",\"Fake.br-Corpus-master\",\"full_texts\",\"fake\").glob('**/*')\n",
    "true_PATH = Path(home_PATH,\"dados\",\"Fake.br-Corpus-master\",\"full_texts\",\"true\").glob('**/*')\n",
    "print(fake_PATH)"
   ]
  },
  {
   "cell_type": "code",
   "execution_count": 9,
   "id": "cb3d8d23-937b-45b6-be98-12a03d6daf2f",
   "metadata": {},
   "outputs": [],
   "source": [
    "# Fake \n",
    "fake_files_txt = [x for x in fake_PATH if x.is_file()]\n",
    "fake = []\n",
    "#Real\n",
    "true_files_txt = [x for x in true_PATH if x.is_file()]\n",
    "true = []\n"
   ]
  },
  {
   "cell_type": "code",
   "execution_count": 10,
   "id": "b8311712-1cdb-4312-b718-e36f8f04194d",
   "metadata": {},
   "outputs": [],
   "source": [
    "def replace_all(text, dic):\n",
    "    for i, j in dic.iteritems():\n",
    "        text = text.replace(i, j)\n",
    "    return text\n",
    "#dic = {\"\\n\":\"\",\"\\x\":\"\"}"
   ]
  },
  {
   "cell_type": "code",
   "execution_count": 11,
   "id": "3e5a5315-505e-491b-95ef-a14e0e432c5d",
   "metadata": {},
   "outputs": [],
   "source": [
    "def create_true_fake_list(fake_true_files_txt):\n",
    "    fake_true_list = []\n",
    "    for file in fake_true_files_txt:\n",
    "        with open(file, 'r',encoding=\"utf8\") as f:\n",
    "            fake_true_list.append(f.read())\n",
    "    return fake_true_list"
   ]
  },
  {
   "cell_type": "code",
   "execution_count": 12,
   "id": "a4bc468d-c2c3-4b89-963a-427ffec313fb",
   "metadata": {},
   "outputs": [],
   "source": [
    "fake = create_true_fake_list(fake_files_txt)\n",
    "true = create_true_fake_list(true_files_txt)"
   ]
  },
  {
   "cell_type": "code",
   "execution_count": 13,
   "id": "486cdb1e-474a-4e4c-a7bc-eb43f0ed5ddb",
   "metadata": {},
   "outputs": [
    {
     "data": {
      "text/plain": [
       "'Kátia Abreu diz que vai colocar sua expulsão em uma moldura, mas não para de reclamar.\\t\\n\\nA senadora Kátia Abreu (sem partido-TO) disse que sua expulsão do PMDB foi resultado de uma ação da cúpula atual da legenda que, segundo ela, é oportunista.\\n\\n“Amanhã eu vou botar numa moldura dourada a minha expulsão, porque das mãos de onde veio, é um atestado de boa conduta para o meu currículo. Essas pessoas que me expulsaram não servem ao país. Eles se servem do país em seus benefícios próprios”, disse Kátia Abreu.\\n\\nUé, mas se a expulsão é algo tão bom para seu currículo, por que tanta choradeira, Kátia?\\n\\nSabemos o motivo. Provavelmente Kátia não tem valor para o PT, partido que já deveria tê-la absorvido. Ao que parece o PT gostava de Kátia somente se ela ficasse entrincheirada dentro do PMDB.\\n\\nOu seja, isso é se rebaixar demais. Resta a Kátia ficar chorando as pitangas por todos os cantos.\\n\\nEm tempo: até o momento o PT não cadastrou Kátia Abreu em suas fileiras. Que situação patética para a ex-ministra da Agricultura de Dilma.'"
      ]
     },
     "execution_count": 13,
     "metadata": {},
     "output_type": "execute_result"
    }
   ],
   "source": [
    "fake[0]"
   ]
  },
  {
   "cell_type": "code",
   "execution_count": 14,
   "id": "77faa7ad-a7d4-41eb-8565-1c883b36c743",
   "metadata": {},
   "outputs": [
    {
     "data": {
      "text/plain": [
       "'\\ufeffO Podemos decidiu  expulsar o deputado federal Carlos Gaguim do partido após a Polícia Federal fazer buscas a apreensões no gabinete dele na Câmara. Com isso, a legenda abre espaço para receber a senadora expulsa pelo PMDB, Katia Abreu. Por meio de nota, a legenda informou que o afastamento do parlamentar já era algo acordado entre os filiados da sigla.  “Ainda que o parlamentar tenha comunicado a conclusão de sua desfiliação para esta semana, diante dos fatos noticiados hoje, a Executiva Nacional do Podemos solicita o imediato cancelamento de sua filiação dos quadros do partido”.\\n\\nO partido, que no passado chegou a cogitar lançar o parlamentar como candidato ao Senado, diz que “apoia a investigação com a ampla apuração dos eventuais crimes cometidos e a consequente responsabilização dos envolvidos, para que todos sejam punidos com o máximo rigor da Lei, independentemente de posição ou cargo ocupado”. '"
      ]
     },
     "execution_count": 14,
     "metadata": {},
     "output_type": "execute_result"
    }
   ],
   "source": [
    "true[0]"
   ]
  },
  {
   "cell_type": "code",
   "execution_count": 15,
   "id": "89da1b0d-0dfc-4dfd-b2e7-0ff181becb56",
   "metadata": {},
   "outputs": [],
   "source": [
    "from nltk.tokenize import TweetTokenizer\n",
    "\n",
    "tknzr = TweetTokenizer()\n",
    "fake_proc = [\" \".join(tknzr.tokenize(x)) for x in fake]\n",
    "true_proc = [\" \".join(tknzr.tokenize(x)) for x in true]\n"
   ]
  },
  {
   "cell_type": "code",
   "execution_count": 16,
   "id": "47df29bc-d2c2-4cda-8aed-44cb596042bd",
   "metadata": {},
   "outputs": [],
   "source": [
    "fake_result = [0]*len(fake)\n",
    "true_result = [1]*len(true)\n",
    "\n",
    "data_proc = fake_proc + true_proc\n",
    "data_result = fake_result + true_result"
   ]
  },
  {
   "cell_type": "code",
   "execution_count": 17,
   "id": "51b65147-17cf-4814-b749-15d4fe26d8ac",
   "metadata": {},
   "outputs": [],
   "source": [
    "df = pd.DataFrame({\"Text\":data_proc, \"label\":data_result})"
   ]
  },
  {
   "cell_type": "code",
   "execution_count": 18,
   "id": "ad8ca2e7-8e7c-4b23-8219-75076b26c9b8",
   "metadata": {},
   "outputs": [],
   "source": [
    "corpus = list(df['Text'])"
   ]
  },
  {
   "cell_type": "code",
   "execution_count": 19,
   "id": "50136af3-ce59-4d1e-acdc-b2f1dc90311b",
   "metadata": {},
   "outputs": [
    {
     "data": {
      "text/html": [
       "<div>\n",
       "<style scoped>\n",
       "    .dataframe tbody tr th:only-of-type {\n",
       "        vertical-align: middle;\n",
       "    }\n",
       "\n",
       "    .dataframe tbody tr th {\n",
       "        vertical-align: top;\n",
       "    }\n",
       "\n",
       "    .dataframe thead th {\n",
       "        text-align: right;\n",
       "    }\n",
       "</style>\n",
       "<table border=\"1\" class=\"dataframe\">\n",
       "  <thead>\n",
       "    <tr style=\"text-align: right;\">\n",
       "      <th></th>\n",
       "      <th>Text</th>\n",
       "      <th>label</th>\n",
       "    </tr>\n",
       "  </thead>\n",
       "  <tbody>\n",
       "    <tr>\n",
       "      <th>7195</th>\n",
       "      <td>Para jornal britânico , ação contra Lula na La...</td>\n",
       "      <td>1</td>\n",
       "    </tr>\n",
       "    <tr>\n",
       "      <th>7196</th>\n",
       "      <td>Temer diz que acionou PF e Cade para investiga...</td>\n",
       "      <td>1</td>\n",
       "    </tr>\n",
       "    <tr>\n",
       "      <th>7197</th>\n",
       "      <td>Os obstáculos políticos de Temer em 2017 . Esp...</td>\n",
       "      <td>1</td>\n",
       "    </tr>\n",
       "    <tr>\n",
       "      <th>7198</th>\n",
       "      <td>Sexta-feira , 15 de setembro de 2017 . Boa noi...</td>\n",
       "      <td>1</td>\n",
       "    </tr>\n",
       "    <tr>\n",
       "      <th>7199</th>\n",
       "      <td>' Não me envolvo em política ' , diz brasileir...</td>\n",
       "      <td>1</td>\n",
       "    </tr>\n",
       "  </tbody>\n",
       "</table>\n",
       "</div>"
      ],
      "text/plain": [
       "                                                   Text  label\n",
       "7195  Para jornal britânico , ação contra Lula na La...      1\n",
       "7196  Temer diz que acionou PF e Cade para investiga...      1\n",
       "7197  Os obstáculos políticos de Temer em 2017 . Esp...      1\n",
       "7198  Sexta-feira , 15 de setembro de 2017 . Boa noi...      1\n",
       "7199  ' Não me envolvo em política ' , diz brasileir...      1"
      ]
     },
     "execution_count": 19,
     "metadata": {},
     "output_type": "execute_result"
    }
   ],
   "source": [
    "df.tail()"
   ]
  },
  {
   "cell_type": "markdown",
   "id": "e2aed232-da69-4aa6-b48f-e5501c56cc2e",
   "metadata": {},
   "source": [
    "### Keras"
   ]
  },
  {
   "cell_type": "code",
   "execution_count": 20,
   "id": "6bd8e8a8-0ea9-4309-95be-7259d519c4af",
   "metadata": {
    "tags": []
   },
   "outputs": [],
   "source": [
    "import tensorflow as tf\n",
    "import tensorflow_hub as hub\n",
    "import tensorflow_text"
   ]
  },
  {
   "cell_type": "code",
   "execution_count": 21,
   "id": "cb44e9d6-0e65-4584-9906-d44c688440b9",
   "metadata": {},
   "outputs": [],
   "source": [
    "from sklearn.model_selection import train_test_split\n",
    "\n",
    "test_size = 0.2\n",
    "\n",
    "train_docs, test_docs, train_labels, test_labels = train_test_split(\n",
    "    np.array(corpus), np.array(df['label']), test_size=test_size)"
   ]
  },
  {
   "cell_type": "code",
   "execution_count": 22,
   "id": "aa9352ab-fc19-4b61-aead-af3c7282a6fb",
   "metadata": {},
   "outputs": [],
   "source": [
    "#embedding = hub.load(\"https://tfhub.dev/tensorflow/bert_multi_cased_L-12_H-768_A-12/4\")"
   ]
  },
  {
   "cell_type": "code",
   "execution_count": 23,
   "id": "4da96a3e-b626-4c05-ab24-57a2f9cfb760",
   "metadata": {},
   "outputs": [
    {
     "data": {
      "text/plain": [
       "0.5097222222222222"
      ]
     },
     "execution_count": 23,
     "metadata": {},
     "output_type": "execute_result"
    }
   ],
   "source": [
    "np.count_nonzero(np.array(test_labels)==1)/len(test_labels)"
   ]
  },
  {
   "cell_type": "code",
   "execution_count": 24,
   "id": "48ea5f9f-670c-4ca7-865d-326d595a3a79",
   "metadata": {},
   "outputs": [],
   "source": [
    "tfhub_handle_preprocess = \"https://tfhub.dev/tensorflow/bert_multi_cased_preprocess/3\"\n",
    "\n",
    "tfhub_handle_encoder = \"https://tfhub.dev/tensorflow/bert_multi_cased_L-12_H-768_A-12/4\"\n",
    "\n",
    "def build_classifier_model():\n",
    "    text_input = tf.keras.layers.Input(shape=(), dtype=tf.string, name='text')\n",
    "    preprocessing_layer = hub.KerasLayer(tfhub_handle_preprocess, name='preprocessing')\n",
    "    encoder_inputs = preprocessing_layer(text_input)\n",
    "    encoder = hub.KerasLayer(tfhub_handle_encoder, trainable=False, name='BERT_encoder')\n",
    "    outputs = encoder(encoder_inputs)\n",
    "    net = outputs['pooled_output']\n",
    "    return tf.keras.Model(text_input, net)"
   ]
  },
  {
   "cell_type": "code",
   "execution_count": 25,
   "id": "cadb3bbc-87c3-4744-a22b-b5f18102d2a6",
   "metadata": {},
   "outputs": [],
   "source": [
    "BERT_layer = hub.KerasLayer(build_classifier_model(),\n",
    "                           #output_shape=[128],\n",
    "                           input_shape=[],\n",
    "                           dtype=tf.string,\n",
    "                           trainable=False)"
   ]
  },
  {
   "cell_type": "code",
   "execution_count": 26,
   "id": "46014e62-c9e1-41db-a97e-e621dad63c1c",
   "metadata": {},
   "outputs": [],
   "source": [
    "model = tf.keras.Sequential([\n",
    "    BERT_layer,\n",
    "    tf.keras.layers.BatchNormalization(),\n",
    "    tf.keras.layers.Dropout(rate=0.4),\n",
    "    tf.keras.layers.Dense(128, activation='relu'),\n",
    "    tf.keras.layers.BatchNormalization(),\n",
    "    tf.keras.layers.Dropout(rate=0.4),\n",
    "    tf.keras.layers.Dense(1),\n",
    "])"
   ]
  },
  {
   "cell_type": "code",
   "execution_count": 27,
   "id": "e9c10364-1d30-487c-a7b4-bbfe9c9061a7",
   "metadata": {
    "tags": []
   },
   "outputs": [
    {
     "name": "stdout",
     "output_type": "stream",
     "text": [
      "Model: \"sequential\"\n",
      "_________________________________________________________________\n",
      "Layer (type)                 Output Shape              Param #   \n",
      "=================================================================\n",
      "keras_layer (KerasLayer)     (None, 768)               177853441 \n",
      "_________________________________________________________________\n",
      "batch_normalization (BatchNo (None, 768)               3072      \n",
      "_________________________________________________________________\n",
      "dropout (Dropout)            (None, 768)               0         \n",
      "_________________________________________________________________\n",
      "dense (Dense)                (None, 128)               98432     \n",
      "_________________________________________________________________\n",
      "batch_normalization_1 (Batch (None, 128)               512       \n",
      "_________________________________________________________________\n",
      "dropout_1 (Dropout)          (None, 128)               0         \n",
      "_________________________________________________________________\n",
      "dense_1 (Dense)              (None, 1)                 129       \n",
      "=================================================================\n",
      "Total params: 177,955,586\n",
      "Trainable params: 100,353\n",
      "Non-trainable params: 177,855,233\n",
      "_________________________________________________________________\n",
      "None\n"
     ]
    }
   ],
   "source": [
    "model.compile(\n",
    "    loss=tf.keras.losses.BinaryCrossentropy(from_logits=True),\n",
    "    optimizer='adam',\n",
    "    metrics=tf.metrics.BinaryAccuracy(),\n",
    ")\n",
    "\n",
    "print(model.summary())"
   ]
  },
  {
   "cell_type": "code",
   "execution_count": 28,
   "id": "5600341d-722e-4b6e-a675-d3f65a8bb10d",
   "metadata": {},
   "outputs": [],
   "source": [
    "checkpoint_filepath = './checkpoints/BERT'\n",
    "\n",
    "model_checkpoint_callback = tf.keras.callbacks.ModelCheckpoint(\n",
    "    filepath=checkpoint_filepath,\n",
    "    save_weights_only=True,\n",
    "    monitor='val_accuracy',\n",
    "    mode='max',\n",
    "    save_best_only=False)"
   ]
  },
  {
   "cell_type": "code",
   "execution_count": 29,
   "id": "b81ba12c-c033-4a21-965c-2c8d28396800",
   "metadata": {},
   "outputs": [
    {
     "name": "stdout",
     "output_type": "stream",
     "text": [
      "Num GPUs Available:  1\n"
     ]
    }
   ],
   "source": [
    "print(\"Num GPUs Available: \", len(tf.config.list_physical_devices('GPU')))"
   ]
  },
  {
   "cell_type": "code",
   "execution_count": 30,
   "id": "026f6ed6-8272-4010-a030-0d8cacede322",
   "metadata": {
    "tags": []
   },
   "outputs": [
    {
     "name": "stdout",
     "output_type": "stream",
     "text": [
      "Epoch 1/300\n",
      "720/720 [==============================] - 64s 80ms/step - loss: 0.6291 - binary_accuracy: 0.6724 - val_loss: 0.4500 - val_binary_accuracy: 0.7833\n",
      "Epoch 2/300\n",
      "720/720 [==============================] - 57s 79ms/step - loss: 0.5430 - binary_accuracy: 0.7179 - val_loss: 0.4400 - val_binary_accuracy: 0.7944\n",
      "Epoch 3/300\n",
      "720/720 [==============================] - 57s 79ms/step - loss: 0.5151 - binary_accuracy: 0.7342 - val_loss: 0.4169 - val_binary_accuracy: 0.8118\n",
      "Epoch 4/300\n",
      "720/720 [==============================] - 57s 79ms/step - loss: 0.5016 - binary_accuracy: 0.7479 - val_loss: 0.4002 - val_binary_accuracy: 0.8347\n",
      "Epoch 5/300\n",
      "720/720 [==============================] - 57s 79ms/step - loss: 0.4997 - binary_accuracy: 0.7446 - val_loss: 0.3939 - val_binary_accuracy: 0.8243\n",
      "Epoch 6/300\n",
      "720/720 [==============================] - 57s 79ms/step - loss: 0.4893 - binary_accuracy: 0.7517 - val_loss: 0.3984 - val_binary_accuracy: 0.8236\n",
      "Epoch 7/300\n",
      "720/720 [==============================] - 57s 79ms/step - loss: 0.4798 - binary_accuracy: 0.7613 - val_loss: 0.3836 - val_binary_accuracy: 0.8340\n",
      "Epoch 8/300\n",
      "720/720 [==============================] - 57s 79ms/step - loss: 0.4764 - binary_accuracy: 0.7566 - val_loss: 0.4044 - val_binary_accuracy: 0.8132\n",
      "Epoch 9/300\n",
      "720/720 [==============================] - 57s 79ms/step - loss: 0.4773 - binary_accuracy: 0.7641 - val_loss: 0.3775 - val_binary_accuracy: 0.8382\n",
      "Epoch 10/300\n",
      "720/720 [==============================] - 57s 79ms/step - loss: 0.4816 - binary_accuracy: 0.7557 - val_loss: 0.3999 - val_binary_accuracy: 0.8146\n",
      "Epoch 11/300\n",
      "720/720 [==============================] - 57s 79ms/step - loss: 0.4643 - binary_accuracy: 0.7714 - val_loss: 0.3779 - val_binary_accuracy: 0.8354\n",
      "Epoch 12/300\n",
      "720/720 [==============================] - 57s 79ms/step - loss: 0.4654 - binary_accuracy: 0.7724 - val_loss: 0.3695 - val_binary_accuracy: 0.8451\n",
      "Epoch 13/300\n",
      "720/720 [==============================] - 57s 79ms/step - loss: 0.4760 - binary_accuracy: 0.7642 - val_loss: 0.3851 - val_binary_accuracy: 0.8410\n",
      "Epoch 14/300\n",
      "720/720 [==============================] - 57s 79ms/step - loss: 0.4605 - binary_accuracy: 0.7668 - val_loss: 0.3663 - val_binary_accuracy: 0.8340\n",
      "Epoch 15/300\n",
      "720/720 [==============================] - 57s 79ms/step - loss: 0.4781 - binary_accuracy: 0.7677 - val_loss: 0.3855 - val_binary_accuracy: 0.8243\n",
      "Epoch 16/300\n",
      "720/720 [==============================] - 57s 79ms/step - loss: 0.4726 - binary_accuracy: 0.7714 - val_loss: 0.3736 - val_binary_accuracy: 0.8292\n",
      "Epoch 17/300\n",
      "720/720 [==============================] - 56s 78ms/step - loss: 0.4560 - binary_accuracy: 0.7745 - val_loss: 0.3745 - val_binary_accuracy: 0.8306\n",
      "Epoch 18/300\n",
      "720/720 [==============================] - 56s 78ms/step - loss: 0.4624 - binary_accuracy: 0.7705 - val_loss: 0.3682 - val_binary_accuracy: 0.8278\n",
      "Epoch 19/300\n",
      "720/720 [==============================] - 56s 77ms/step - loss: 0.4430 - binary_accuracy: 0.7840 - val_loss: 0.3543 - val_binary_accuracy: 0.8528\n",
      "Epoch 20/300\n",
      "720/720 [==============================] - 56s 78ms/step - loss: 0.4720 - binary_accuracy: 0.7623 - val_loss: 0.3637 - val_binary_accuracy: 0.8410\n",
      "Epoch 21/300\n",
      "720/720 [==============================] - 56s 78ms/step - loss: 0.4702 - binary_accuracy: 0.7648 - val_loss: 0.3652 - val_binary_accuracy: 0.8424\n",
      "Epoch 22/300\n",
      "720/720 [==============================] - 56s 78ms/step - loss: 0.4487 - binary_accuracy: 0.7792 - val_loss: 0.3630 - val_binary_accuracy: 0.8451\n",
      "Epoch 23/300\n",
      "720/720 [==============================] - 56s 77ms/step - loss: 0.4670 - binary_accuracy: 0.7748 - val_loss: 0.3584 - val_binary_accuracy: 0.8382\n",
      "Epoch 24/300\n",
      "720/720 [==============================] - 56s 78ms/step - loss: 0.4536 - binary_accuracy: 0.7797 - val_loss: 0.3595 - val_binary_accuracy: 0.8340\n",
      "Epoch 25/300\n",
      "720/720 [==============================] - 56s 78ms/step - loss: 0.4579 - binary_accuracy: 0.7714 - val_loss: 0.3519 - val_binary_accuracy: 0.8431\n",
      "Epoch 26/300\n",
      "720/720 [==============================] - 56s 78ms/step - loss: 0.4500 - binary_accuracy: 0.7839 - val_loss: 0.3525 - val_binary_accuracy: 0.8375\n",
      "Epoch 27/300\n",
      "720/720 [==============================] - 56s 78ms/step - loss: 0.4547 - binary_accuracy: 0.7826 - val_loss: 0.3490 - val_binary_accuracy: 0.8347\n",
      "Epoch 28/300\n",
      "720/720 [==============================] - 56s 78ms/step - loss: 0.4569 - binary_accuracy: 0.7729 - val_loss: 0.3528 - val_binary_accuracy: 0.8396\n",
      "Epoch 29/300\n",
      "720/720 [==============================] - 56s 78ms/step - loss: 0.4619 - binary_accuracy: 0.7712 - val_loss: 0.3629 - val_binary_accuracy: 0.8382\n",
      "Epoch 30/300\n",
      "720/720 [==============================] - 56s 78ms/step - loss: 0.4562 - binary_accuracy: 0.7806 - val_loss: 0.3622 - val_binary_accuracy: 0.8382\n",
      "Epoch 31/300\n",
      "720/720 [==============================] - 56s 78ms/step - loss: 0.4498 - binary_accuracy: 0.7748 - val_loss: 0.3493 - val_binary_accuracy: 0.8431\n",
      "Epoch 32/300\n",
      "720/720 [==============================] - 56s 78ms/step - loss: 0.4471 - binary_accuracy: 0.7781 - val_loss: 0.3563 - val_binary_accuracy: 0.8333\n",
      "Epoch 33/300\n",
      "720/720 [==============================] - 56s 78ms/step - loss: 0.4440 - binary_accuracy: 0.7844 - val_loss: 0.3469 - val_binary_accuracy: 0.8424\n",
      "Epoch 34/300\n",
      "720/720 [==============================] - 56s 78ms/step - loss: 0.4635 - binary_accuracy: 0.7705 - val_loss: 0.3550 - val_binary_accuracy: 0.8354\n",
      "Epoch 35/300\n",
      "720/720 [==============================] - 56s 78ms/step - loss: 0.4473 - binary_accuracy: 0.7776 - val_loss: 0.3423 - val_binary_accuracy: 0.8556\n",
      "Epoch 36/300\n",
      "720/720 [==============================] - 56s 78ms/step - loss: 0.4490 - binary_accuracy: 0.7773 - val_loss: 0.3444 - val_binary_accuracy: 0.8458\n",
      "Epoch 37/300\n",
      "720/720 [==============================] - 56s 78ms/step - loss: 0.4422 - binary_accuracy: 0.7847 - val_loss: 0.3408 - val_binary_accuracy: 0.8389\n",
      "Epoch 38/300\n",
      "720/720 [==============================] - 56s 78ms/step - loss: 0.4527 - binary_accuracy: 0.7757 - val_loss: 0.3481 - val_binary_accuracy: 0.8486\n",
      "Epoch 39/300\n",
      "720/720 [==============================] - 56s 78ms/step - loss: 0.4475 - binary_accuracy: 0.7785 - val_loss: 0.3375 - val_binary_accuracy: 0.8542\n",
      "Epoch 40/300\n",
      "720/720 [==============================] - 56s 78ms/step - loss: 0.4595 - binary_accuracy: 0.7797 - val_loss: 0.3626 - val_binary_accuracy: 0.8250\n",
      "Epoch 41/300\n",
      "720/720 [==============================] - 56s 78ms/step - loss: 0.4359 - binary_accuracy: 0.7903 - val_loss: 0.3359 - val_binary_accuracy: 0.8542\n",
      "Epoch 42/300\n",
      "720/720 [==============================] - 56s 78ms/step - loss: 0.4438 - binary_accuracy: 0.7832 - val_loss: 0.3494 - val_binary_accuracy: 0.8535\n",
      "Epoch 43/300\n",
      "720/720 [==============================] - 56s 78ms/step - loss: 0.4480 - binary_accuracy: 0.7830 - val_loss: 0.3410 - val_binary_accuracy: 0.8535\n",
      "Epoch 44/300\n",
      "720/720 [==============================] - 56s 78ms/step - loss: 0.4550 - binary_accuracy: 0.7792 - val_loss: 0.3441 - val_binary_accuracy: 0.8479\n",
      "Epoch 45/300\n",
      "720/720 [==============================] - 56s 78ms/step - loss: 0.4384 - binary_accuracy: 0.7896 - val_loss: 0.3471 - val_binary_accuracy: 0.8333\n",
      "Epoch 46/300\n",
      "720/720 [==============================] - 56s 78ms/step - loss: 0.4450 - binary_accuracy: 0.7835 - val_loss: 0.3392 - val_binary_accuracy: 0.8562\n",
      "Epoch 47/300\n",
      "720/720 [==============================] - 56s 78ms/step - loss: 0.4382 - binary_accuracy: 0.7906 - val_loss: 0.3439 - val_binary_accuracy: 0.8410\n",
      "Epoch 48/300\n",
      "720/720 [==============================] - 56s 78ms/step - loss: 0.4461 - binary_accuracy: 0.7795 - val_loss: 0.3532 - val_binary_accuracy: 0.8410\n",
      "Epoch 49/300\n",
      "720/720 [==============================] - 56s 78ms/step - loss: 0.4409 - binary_accuracy: 0.7849 - val_loss: 0.3433 - val_binary_accuracy: 0.8465\n",
      "Epoch 50/300\n",
      "720/720 [==============================] - 56s 78ms/step - loss: 0.4415 - binary_accuracy: 0.7894 - val_loss: 0.3472 - val_binary_accuracy: 0.8396\n",
      "Epoch 51/300\n",
      "720/720 [==============================] - 56s 78ms/step - loss: 0.4374 - binary_accuracy: 0.7861 - val_loss: 0.3477 - val_binary_accuracy: 0.8438\n",
      "Epoch 52/300\n",
      "720/720 [==============================] - 56s 78ms/step - loss: 0.4391 - binary_accuracy: 0.7901 - val_loss: 0.3342 - val_binary_accuracy: 0.8583\n",
      "Epoch 53/300\n",
      "720/720 [==============================] - 56s 78ms/step - loss: 0.4384 - binary_accuracy: 0.7858 - val_loss: 0.3393 - val_binary_accuracy: 0.8514\n",
      "Epoch 54/300\n",
      "720/720 [==============================] - 56s 78ms/step - loss: 0.4470 - binary_accuracy: 0.7868 - val_loss: 0.3325 - val_binary_accuracy: 0.8590\n",
      "Epoch 55/300\n",
      "720/720 [==============================] - 56s 78ms/step - loss: 0.4329 - binary_accuracy: 0.7882 - val_loss: 0.3377 - val_binary_accuracy: 0.8521\n",
      "Epoch 56/300\n",
      "720/720 [==============================] - 56s 78ms/step - loss: 0.4426 - binary_accuracy: 0.7861 - val_loss: 0.3440 - val_binary_accuracy: 0.8472\n",
      "Epoch 57/300\n",
      "720/720 [==============================] - 56s 78ms/step - loss: 0.4471 - binary_accuracy: 0.7830 - val_loss: 0.3410 - val_binary_accuracy: 0.8465\n",
      "Epoch 58/300\n",
      "720/720 [==============================] - 56s 78ms/step - loss: 0.4416 - binary_accuracy: 0.7898 - val_loss: 0.3433 - val_binary_accuracy: 0.8458\n",
      "Epoch 59/300\n",
      "720/720 [==============================] - 56s 78ms/step - loss: 0.4447 - binary_accuracy: 0.7849 - val_loss: 0.3407 - val_binary_accuracy: 0.8507\n",
      "Epoch 60/300\n",
      "720/720 [==============================] - 56s 78ms/step - loss: 0.4415 - binary_accuracy: 0.7750 - val_loss: 0.3415 - val_binary_accuracy: 0.8514\n",
      "Epoch 61/300\n",
      "720/720 [==============================] - 56s 78ms/step - loss: 0.4454 - binary_accuracy: 0.7802 - val_loss: 0.3322 - val_binary_accuracy: 0.8562\n",
      "Epoch 62/300\n",
      "720/720 [==============================] - 56s 78ms/step - loss: 0.4346 - binary_accuracy: 0.7901 - val_loss: 0.3317 - val_binary_accuracy: 0.8535\n",
      "Epoch 63/300\n",
      "720/720 [==============================] - 56s 78ms/step - loss: 0.4508 - binary_accuracy: 0.7769 - val_loss: 0.3349 - val_binary_accuracy: 0.8514\n",
      "Epoch 64/300\n",
      "720/720 [==============================] - 56s 78ms/step - loss: 0.4358 - binary_accuracy: 0.7894 - val_loss: 0.3367 - val_binary_accuracy: 0.8507\n",
      "Epoch 65/300\n",
      "720/720 [==============================] - 56s 78ms/step - loss: 0.4275 - binary_accuracy: 0.7964 - val_loss: 0.3370 - val_binary_accuracy: 0.8486\n",
      "Epoch 66/300\n",
      "720/720 [==============================] - 56s 78ms/step - loss: 0.4293 - binary_accuracy: 0.7894 - val_loss: 0.3306 - val_binary_accuracy: 0.8521\n",
      "Epoch 67/300\n",
      "720/720 [==============================] - 56s 78ms/step - loss: 0.4440 - binary_accuracy: 0.7842 - val_loss: 0.3394 - val_binary_accuracy: 0.8542\n",
      "Epoch 68/300\n",
      "720/720 [==============================] - 56s 78ms/step - loss: 0.4279 - binary_accuracy: 0.7927 - val_loss: 0.3229 - val_binary_accuracy: 0.8618\n",
      "Epoch 69/300\n",
      "720/720 [==============================] - 56s 78ms/step - loss: 0.4324 - binary_accuracy: 0.7910 - val_loss: 0.3360 - val_binary_accuracy: 0.8576\n",
      "Epoch 70/300\n",
      "720/720 [==============================] - 56s 78ms/step - loss: 0.4316 - binary_accuracy: 0.7896 - val_loss: 0.3325 - val_binary_accuracy: 0.8438\n",
      "Epoch 71/300\n",
      "720/720 [==============================] - 56s 78ms/step - loss: 0.4376 - binary_accuracy: 0.7854 - val_loss: 0.3305 - val_binary_accuracy: 0.8562\n",
      "Epoch 72/300\n",
      "720/720 [==============================] - 57s 79ms/step - loss: 0.4401 - binary_accuracy: 0.7845 - val_loss: 0.3257 - val_binary_accuracy: 0.8618\n",
      "Epoch 73/300\n",
      "720/720 [==============================] - 56s 78ms/step - loss: 0.4332 - binary_accuracy: 0.7861 - val_loss: 0.3378 - val_binary_accuracy: 0.8403\n",
      "Epoch 74/300\n",
      "720/720 [==============================] - 56s 78ms/step - loss: 0.4297 - binary_accuracy: 0.7891 - val_loss: 0.3308 - val_binary_accuracy: 0.8514\n",
      "Epoch 75/300\n",
      "720/720 [==============================] - 56s 78ms/step - loss: 0.4377 - binary_accuracy: 0.7878 - val_loss: 0.3358 - val_binary_accuracy: 0.8514\n",
      "Epoch 76/300\n",
      "720/720 [==============================] - 57s 79ms/step - loss: 0.4251 - binary_accuracy: 0.7969 - val_loss: 0.3242 - val_binary_accuracy: 0.8535\n",
      "Epoch 77/300\n",
      "720/720 [==============================] - 56s 78ms/step - loss: 0.4409 - binary_accuracy: 0.7840 - val_loss: 0.3411 - val_binary_accuracy: 0.8500\n",
      "Epoch 78/300\n",
      "720/720 [==============================] - 56s 78ms/step - loss: 0.4285 - binary_accuracy: 0.7934 - val_loss: 0.3424 - val_binary_accuracy: 0.8444\n",
      "Epoch 79/300\n",
      "720/720 [==============================] - 56s 78ms/step - loss: 0.4424 - binary_accuracy: 0.7833 - val_loss: 0.3296 - val_binary_accuracy: 0.8535\n",
      "Epoch 80/300\n",
      "720/720 [==============================] - 56s 78ms/step - loss: 0.4249 - binary_accuracy: 0.7927 - val_loss: 0.3229 - val_binary_accuracy: 0.8562\n",
      "Epoch 81/300\n",
      "720/720 [==============================] - 56s 78ms/step - loss: 0.4356 - binary_accuracy: 0.7941 - val_loss: 0.3386 - val_binary_accuracy: 0.8576\n",
      "Epoch 82/300\n",
      "720/720 [==============================] - 56s 78ms/step - loss: 0.4264 - binary_accuracy: 0.7962 - val_loss: 0.3223 - val_binary_accuracy: 0.8535\n",
      "Epoch 83/300\n",
      "720/720 [==============================] - 56s 78ms/step - loss: 0.4440 - binary_accuracy: 0.7872 - val_loss: 0.3305 - val_binary_accuracy: 0.8500\n",
      "Epoch 84/300\n",
      "720/720 [==============================] - 56s 78ms/step - loss: 0.4319 - binary_accuracy: 0.7918 - val_loss: 0.3281 - val_binary_accuracy: 0.8514\n",
      "Epoch 85/300\n",
      "720/720 [==============================] - 56s 78ms/step - loss: 0.4233 - binary_accuracy: 0.7915 - val_loss: 0.3288 - val_binary_accuracy: 0.8660\n",
      "Epoch 86/300\n",
      "720/720 [==============================] - 56s 78ms/step - loss: 0.4164 - binary_accuracy: 0.8036 - val_loss: 0.3287 - val_binary_accuracy: 0.8576\n",
      "Epoch 87/300\n",
      "720/720 [==============================] - 57s 79ms/step - loss: 0.4303 - binary_accuracy: 0.7937 - val_loss: 0.3278 - val_binary_accuracy: 0.8597\n",
      "Epoch 88/300\n",
      "720/720 [==============================] - 57s 79ms/step - loss: 0.4419 - binary_accuracy: 0.7826 - val_loss: 0.3294 - val_binary_accuracy: 0.8556\n",
      "Epoch 89/300\n",
      "720/720 [==============================] - 57s 79ms/step - loss: 0.4303 - binary_accuracy: 0.7957 - val_loss: 0.3241 - val_binary_accuracy: 0.8583\n",
      "Epoch 90/300\n",
      "720/720 [==============================] - 57s 79ms/step - loss: 0.4377 - binary_accuracy: 0.7847 - val_loss: 0.3192 - val_binary_accuracy: 0.8674\n",
      "Epoch 91/300\n",
      "720/720 [==============================] - 57s 79ms/step - loss: 0.4313 - binary_accuracy: 0.7901 - val_loss: 0.3290 - val_binary_accuracy: 0.8583\n",
      "Epoch 92/300\n",
      "720/720 [==============================] - 57s 79ms/step - loss: 0.4388 - binary_accuracy: 0.7873 - val_loss: 0.3397 - val_binary_accuracy: 0.8528\n",
      "Epoch 93/300\n",
      "720/720 [==============================] - 57s 79ms/step - loss: 0.4308 - binary_accuracy: 0.7913 - val_loss: 0.3293 - val_binary_accuracy: 0.8625\n",
      "Epoch 94/300\n",
      "720/720 [==============================] - 57s 79ms/step - loss: 0.4326 - binary_accuracy: 0.7910 - val_loss: 0.3250 - val_binary_accuracy: 0.8639\n",
      "Epoch 95/300\n",
      "720/720 [==============================] - 57s 79ms/step - loss: 0.4188 - binary_accuracy: 0.7998 - val_loss: 0.3161 - val_binary_accuracy: 0.8604\n",
      "Epoch 96/300\n",
      "720/720 [==============================] - 57s 79ms/step - loss: 0.4266 - binary_accuracy: 0.7950 - val_loss: 0.3266 - val_binary_accuracy: 0.8500\n",
      "Epoch 97/300\n",
      "720/720 [==============================] - 57s 79ms/step - loss: 0.4072 - binary_accuracy: 0.8054 - val_loss: 0.3141 - val_binary_accuracy: 0.8576\n",
      "Epoch 98/300\n",
      "720/720 [==============================] - 57s 79ms/step - loss: 0.4267 - binary_accuracy: 0.7937 - val_loss: 0.3157 - val_binary_accuracy: 0.8556\n",
      "Epoch 99/300\n",
      "720/720 [==============================] - 57s 79ms/step - loss: 0.4228 - binary_accuracy: 0.7941 - val_loss: 0.3292 - val_binary_accuracy: 0.8569\n",
      "Epoch 100/300\n",
      "720/720 [==============================] - 57s 79ms/step - loss: 0.4321 - binary_accuracy: 0.7903 - val_loss: 0.3261 - val_binary_accuracy: 0.8535\n",
      "Epoch 101/300\n",
      "720/720 [==============================] - 57s 79ms/step - loss: 0.4242 - binary_accuracy: 0.7913 - val_loss: 0.3250 - val_binary_accuracy: 0.8556\n",
      "Epoch 102/300\n",
      "720/720 [==============================] - 57s 79ms/step - loss: 0.4249 - binary_accuracy: 0.7939 - val_loss: 0.3210 - val_binary_accuracy: 0.8507\n",
      "Epoch 103/300\n",
      "720/720 [==============================] - 57s 79ms/step - loss: 0.4352 - binary_accuracy: 0.7929 - val_loss: 0.3245 - val_binary_accuracy: 0.8569\n",
      "Epoch 104/300\n",
      "720/720 [==============================] - 57s 79ms/step - loss: 0.4266 - binary_accuracy: 0.7937 - val_loss: 0.3235 - val_binary_accuracy: 0.8569\n",
      "Epoch 105/300\n",
      "720/720 [==============================] - 57s 79ms/step - loss: 0.4275 - binary_accuracy: 0.7955 - val_loss: 0.3242 - val_binary_accuracy: 0.8562\n",
      "Epoch 106/300\n",
      "720/720 [==============================] - 57s 79ms/step - loss: 0.4330 - binary_accuracy: 0.7908 - val_loss: 0.3183 - val_binary_accuracy: 0.8576\n",
      "Epoch 107/300\n",
      "720/720 [==============================] - 56s 78ms/step - loss: 0.4270 - binary_accuracy: 0.7906 - val_loss: 0.3305 - val_binary_accuracy: 0.8625\n",
      "Epoch 108/300\n",
      "720/720 [==============================] - 57s 79ms/step - loss: 0.4133 - binary_accuracy: 0.8010 - val_loss: 0.3116 - val_binary_accuracy: 0.8625\n",
      "Epoch 109/300\n",
      "720/720 [==============================] - 56s 78ms/step - loss: 0.4319 - binary_accuracy: 0.7905 - val_loss: 0.3261 - val_binary_accuracy: 0.8528\n",
      "Epoch 110/300\n",
      "720/720 [==============================] - 57s 79ms/step - loss: 0.4212 - binary_accuracy: 0.8012 - val_loss: 0.3222 - val_binary_accuracy: 0.8590\n",
      "Epoch 111/300\n",
      "720/720 [==============================] - 56s 78ms/step - loss: 0.4364 - binary_accuracy: 0.7872 - val_loss: 0.3322 - val_binary_accuracy: 0.8660\n",
      "Epoch 112/300\n",
      "720/720 [==============================] - 57s 79ms/step - loss: 0.4282 - binary_accuracy: 0.7936 - val_loss: 0.3214 - val_binary_accuracy: 0.8625\n",
      "Epoch 113/300\n",
      "720/720 [==============================] - 56s 78ms/step - loss: 0.4122 - binary_accuracy: 0.8057 - val_loss: 0.3251 - val_binary_accuracy: 0.8542\n",
      "Epoch 114/300\n",
      "720/720 [==============================] - 56s 78ms/step - loss: 0.4289 - binary_accuracy: 0.7948 - val_loss: 0.3170 - val_binary_accuracy: 0.8542\n",
      "Epoch 115/300\n",
      "720/720 [==============================] - 56s 78ms/step - loss: 0.4305 - binary_accuracy: 0.7917 - val_loss: 0.3235 - val_binary_accuracy: 0.8611\n",
      "Epoch 116/300\n",
      "720/720 [==============================] - 57s 78ms/step - loss: 0.4132 - binary_accuracy: 0.8017 - val_loss: 0.3054 - val_binary_accuracy: 0.8687\n",
      "Epoch 117/300\n",
      "720/720 [==============================] - 56s 78ms/step - loss: 0.4320 - binary_accuracy: 0.7946 - val_loss: 0.3164 - val_binary_accuracy: 0.8646\n",
      "Epoch 118/300\n",
      "720/720 [==============================] - 57s 79ms/step - loss: 0.4235 - binary_accuracy: 0.7967 - val_loss: 0.3221 - val_binary_accuracy: 0.8632\n",
      "Epoch 119/300\n",
      "720/720 [==============================] - 57s 79ms/step - loss: 0.4314 - binary_accuracy: 0.7931 - val_loss: 0.3240 - val_binary_accuracy: 0.8604\n",
      "Epoch 120/300\n",
      "720/720 [==============================] - 57s 79ms/step - loss: 0.4238 - binary_accuracy: 0.7922 - val_loss: 0.3171 - val_binary_accuracy: 0.8604\n",
      "Epoch 121/300\n",
      "720/720 [==============================] - 57s 79ms/step - loss: 0.4312 - binary_accuracy: 0.7929 - val_loss: 0.3205 - val_binary_accuracy: 0.8632\n",
      "Epoch 122/300\n",
      "720/720 [==============================] - 57s 79ms/step - loss: 0.4169 - binary_accuracy: 0.8019 - val_loss: 0.3159 - val_binary_accuracy: 0.8667\n",
      "Epoch 123/300\n",
      "720/720 [==============================] - 57s 79ms/step - loss: 0.4344 - binary_accuracy: 0.7915 - val_loss: 0.3200 - val_binary_accuracy: 0.8542\n",
      "Epoch 124/300\n",
      "720/720 [==============================] - 57s 79ms/step - loss: 0.4194 - binary_accuracy: 0.8017 - val_loss: 0.3189 - val_binary_accuracy: 0.8569\n",
      "Epoch 125/300\n",
      "720/720 [==============================] - 57s 79ms/step - loss: 0.4245 - binary_accuracy: 0.7976 - val_loss: 0.3209 - val_binary_accuracy: 0.8632\n",
      "Epoch 126/300\n",
      "720/720 [==============================] - 57s 79ms/step - loss: 0.4240 - binary_accuracy: 0.7983 - val_loss: 0.3223 - val_binary_accuracy: 0.8556\n",
      "Epoch 127/300\n",
      "720/720 [==============================] - 57s 79ms/step - loss: 0.4281 - binary_accuracy: 0.7936 - val_loss: 0.3233 - val_binary_accuracy: 0.8611\n",
      "Epoch 128/300\n",
      "720/720 [==============================] - 56s 78ms/step - loss: 0.4184 - binary_accuracy: 0.7998 - val_loss: 0.3265 - val_binary_accuracy: 0.8521\n",
      "Epoch 129/300\n",
      "720/720 [==============================] - 57s 79ms/step - loss: 0.4247 - binary_accuracy: 0.7920 - val_loss: 0.3198 - val_binary_accuracy: 0.8667\n",
      "Epoch 130/300\n",
      "720/720 [==============================] - 56s 78ms/step - loss: 0.4245 - binary_accuracy: 0.7979 - val_loss: 0.3231 - val_binary_accuracy: 0.8583\n",
      "Epoch 131/300\n",
      "720/720 [==============================] - 56s 78ms/step - loss: 0.4309 - binary_accuracy: 0.7858 - val_loss: 0.3212 - val_binary_accuracy: 0.8583\n",
      "Epoch 132/300\n",
      "720/720 [==============================] - 56s 78ms/step - loss: 0.4127 - binary_accuracy: 0.8019 - val_loss: 0.3188 - val_binary_accuracy: 0.8569\n",
      "Epoch 133/300\n",
      "720/720 [==============================] - 56s 78ms/step - loss: 0.4279 - binary_accuracy: 0.7951 - val_loss: 0.3323 - val_binary_accuracy: 0.8507\n",
      "Epoch 134/300\n",
      "720/720 [==============================] - 57s 79ms/step - loss: 0.4241 - binary_accuracy: 0.7967 - val_loss: 0.3146 - val_binary_accuracy: 0.8646\n",
      "Epoch 135/300\n",
      "720/720 [==============================] - 57s 79ms/step - loss: 0.4207 - binary_accuracy: 0.7997 - val_loss: 0.3156 - val_binary_accuracy: 0.8590\n",
      "Epoch 136/300\n",
      "720/720 [==============================] - 57s 79ms/step - loss: 0.4259 - binary_accuracy: 0.7943 - val_loss: 0.3123 - val_binary_accuracy: 0.8576\n",
      "Epoch 137/300\n",
      "720/720 [==============================] - 57s 79ms/step - loss: 0.4172 - binary_accuracy: 0.7997 - val_loss: 0.3235 - val_binary_accuracy: 0.8618\n",
      "Epoch 138/300\n",
      "720/720 [==============================] - 57s 79ms/step - loss: 0.4360 - binary_accuracy: 0.7972 - val_loss: 0.3201 - val_binary_accuracy: 0.8604\n",
      "Epoch 139/300\n",
      "720/720 [==============================] - 57s 79ms/step - loss: 0.4122 - binary_accuracy: 0.8019 - val_loss: 0.3178 - val_binary_accuracy: 0.8618\n",
      "Epoch 140/300\n",
      "720/720 [==============================] - 57s 79ms/step - loss: 0.4150 - binary_accuracy: 0.8030 - val_loss: 0.3085 - val_binary_accuracy: 0.8542\n",
      "Epoch 141/300\n",
      "720/720 [==============================] - 57s 79ms/step - loss: 0.4296 - binary_accuracy: 0.8005 - val_loss: 0.3221 - val_binary_accuracy: 0.8597\n",
      "Epoch 142/300\n",
      "720/720 [==============================] - 57s 79ms/step - loss: 0.4223 - binary_accuracy: 0.7920 - val_loss: 0.3100 - val_binary_accuracy: 0.8604\n",
      "Epoch 143/300\n",
      "720/720 [==============================] - 57s 79ms/step - loss: 0.4344 - binary_accuracy: 0.7892 - val_loss: 0.3234 - val_binary_accuracy: 0.8604\n",
      "Epoch 144/300\n",
      "720/720 [==============================] - 57s 79ms/step - loss: 0.4259 - binary_accuracy: 0.7977 - val_loss: 0.3155 - val_binary_accuracy: 0.8687\n",
      "Epoch 145/300\n",
      "720/720 [==============================] - 57s 79ms/step - loss: 0.4187 - binary_accuracy: 0.8007 - val_loss: 0.3198 - val_binary_accuracy: 0.8590\n",
      "Epoch 146/300\n",
      "720/720 [==============================] - 57s 79ms/step - loss: 0.4205 - binary_accuracy: 0.7950 - val_loss: 0.3176 - val_binary_accuracy: 0.8562\n",
      "Epoch 147/300\n",
      "720/720 [==============================] - 57s 79ms/step - loss: 0.4131 - binary_accuracy: 0.8003 - val_loss: 0.3180 - val_binary_accuracy: 0.8708\n",
      "Epoch 148/300\n",
      "720/720 [==============================] - 57s 79ms/step - loss: 0.4278 - binary_accuracy: 0.8003 - val_loss: 0.3295 - val_binary_accuracy: 0.8576\n",
      "Epoch 149/300\n",
      "720/720 [==============================] - 57s 79ms/step - loss: 0.4240 - binary_accuracy: 0.7953 - val_loss: 0.3134 - val_binary_accuracy: 0.8639\n",
      "Epoch 150/300\n",
      "720/720 [==============================] - 57s 79ms/step - loss: 0.4206 - binary_accuracy: 0.7953 - val_loss: 0.3108 - val_binary_accuracy: 0.8597\n",
      "Epoch 151/300\n",
      "720/720 [==============================] - 57s 79ms/step - loss: 0.4221 - binary_accuracy: 0.8002 - val_loss: 0.3217 - val_binary_accuracy: 0.8556\n",
      "Epoch 152/300\n",
      "720/720 [==============================] - 57s 79ms/step - loss: 0.4222 - binary_accuracy: 0.7964 - val_loss: 0.3156 - val_binary_accuracy: 0.8646\n",
      "Epoch 153/300\n",
      "720/720 [==============================] - 57s 79ms/step - loss: 0.4306 - binary_accuracy: 0.7908 - val_loss: 0.3210 - val_binary_accuracy: 0.8611\n",
      "Epoch 154/300\n",
      "720/720 [==============================] - 57s 79ms/step - loss: 0.4246 - binary_accuracy: 0.7958 - val_loss: 0.3216 - val_binary_accuracy: 0.8576\n",
      "Epoch 155/300\n",
      "720/720 [==============================] - 57s 79ms/step - loss: 0.4242 - binary_accuracy: 0.7962 - val_loss: 0.3178 - val_binary_accuracy: 0.8583\n",
      "Epoch 156/300\n",
      "720/720 [==============================] - 57s 79ms/step - loss: 0.4138 - binary_accuracy: 0.8023 - val_loss: 0.3076 - val_binary_accuracy: 0.8639\n",
      "Epoch 157/300\n",
      "720/720 [==============================] - 57s 79ms/step - loss: 0.4088 - binary_accuracy: 0.8068 - val_loss: 0.3057 - val_binary_accuracy: 0.8653\n",
      "Epoch 158/300\n",
      "720/720 [==============================] - 57s 79ms/step - loss: 0.4173 - binary_accuracy: 0.8030 - val_loss: 0.3119 - val_binary_accuracy: 0.8743\n",
      "Epoch 159/300\n",
      "720/720 [==============================] - 57s 79ms/step - loss: 0.4122 - binary_accuracy: 0.8028 - val_loss: 0.3080 - val_binary_accuracy: 0.8611\n",
      "Epoch 160/300\n",
      "720/720 [==============================] - 57s 79ms/step - loss: 0.4262 - binary_accuracy: 0.7913 - val_loss: 0.3214 - val_binary_accuracy: 0.8604\n",
      "Epoch 161/300\n",
      "720/720 [==============================] - 57s 79ms/step - loss: 0.4180 - binary_accuracy: 0.8017 - val_loss: 0.3125 - val_binary_accuracy: 0.8611\n",
      "Epoch 162/300\n",
      "720/720 [==============================] - 57s 79ms/step - loss: 0.4189 - binary_accuracy: 0.7990 - val_loss: 0.3091 - val_binary_accuracy: 0.8681\n",
      "Epoch 163/300\n",
      "720/720 [==============================] - 57s 79ms/step - loss: 0.4132 - binary_accuracy: 0.8073 - val_loss: 0.3133 - val_binary_accuracy: 0.8646\n",
      "Epoch 164/300\n",
      "720/720 [==============================] - 57s 79ms/step - loss: 0.4161 - binary_accuracy: 0.7962 - val_loss: 0.3145 - val_binary_accuracy: 0.8743\n",
      "Epoch 165/300\n",
      "720/720 [==============================] - 57s 79ms/step - loss: 0.4237 - binary_accuracy: 0.7983 - val_loss: 0.3091 - val_binary_accuracy: 0.8660\n",
      "Epoch 166/300\n",
      "720/720 [==============================] - 57s 79ms/step - loss: 0.4226 - binary_accuracy: 0.8035 - val_loss: 0.3108 - val_binary_accuracy: 0.8604\n",
      "Epoch 167/300\n",
      "720/720 [==============================] - 57s 79ms/step - loss: 0.4127 - binary_accuracy: 0.8082 - val_loss: 0.3093 - val_binary_accuracy: 0.8667\n",
      "Epoch 168/300\n",
      "720/720 [==============================] - 57s 79ms/step - loss: 0.4151 - binary_accuracy: 0.8043 - val_loss: 0.3135 - val_binary_accuracy: 0.8618\n",
      "Epoch 169/300\n",
      "720/720 [==============================] - 57s 79ms/step - loss: 0.4176 - binary_accuracy: 0.8047 - val_loss: 0.3131 - val_binary_accuracy: 0.8597\n",
      "Epoch 170/300\n",
      "720/720 [==============================] - 57s 79ms/step - loss: 0.4217 - binary_accuracy: 0.7984 - val_loss: 0.3179 - val_binary_accuracy: 0.8576\n",
      "Epoch 171/300\n",
      "720/720 [==============================] - 57s 79ms/step - loss: 0.4160 - binary_accuracy: 0.8035 - val_loss: 0.3085 - val_binary_accuracy: 0.8611\n",
      "Epoch 172/300\n",
      "720/720 [==============================] - 57s 80ms/step - loss: 0.4257 - binary_accuracy: 0.7960 - val_loss: 0.3090 - val_binary_accuracy: 0.8604\n",
      "Epoch 173/300\n",
      "720/720 [==============================] - 58s 80ms/step - loss: 0.4267 - binary_accuracy: 0.7948 - val_loss: 0.3199 - val_binary_accuracy: 0.8625\n",
      "Epoch 174/300\n",
      "720/720 [==============================] - 58s 81ms/step - loss: 0.4104 - binary_accuracy: 0.8021 - val_loss: 0.3166 - val_binary_accuracy: 0.8625\n",
      "Epoch 175/300\n",
      "720/720 [==============================] - 58s 80ms/step - loss: 0.4071 - binary_accuracy: 0.8071 - val_loss: 0.3085 - val_binary_accuracy: 0.8562\n",
      "Epoch 176/300\n",
      "720/720 [==============================] - 58s 80ms/step - loss: 0.4250 - binary_accuracy: 0.7960 - val_loss: 0.3111 - val_binary_accuracy: 0.8694\n",
      "Epoch 177/300\n",
      "720/720 [==============================] - 58s 81ms/step - loss: 0.4180 - binary_accuracy: 0.7990 - val_loss: 0.3173 - val_binary_accuracy: 0.8708\n",
      "Epoch 178/300\n",
      "720/720 [==============================] - 58s 81ms/step - loss: 0.4140 - binary_accuracy: 0.7969 - val_loss: 0.3145 - val_binary_accuracy: 0.8681\n",
      "Epoch 179/300\n",
      "720/720 [==============================] - 58s 81ms/step - loss: 0.4285 - binary_accuracy: 0.7915 - val_loss: 0.3160 - val_binary_accuracy: 0.8625\n",
      "Epoch 180/300\n",
      "720/720 [==============================] - 58s 81ms/step - loss: 0.4088 - binary_accuracy: 0.8024 - val_loss: 0.3046 - val_binary_accuracy: 0.8653\n",
      "Epoch 181/300\n",
      "720/720 [==============================] - 58s 81ms/step - loss: 0.4195 - binary_accuracy: 0.8023 - val_loss: 0.3145 - val_binary_accuracy: 0.8618\n",
      "Epoch 182/300\n",
      "720/720 [==============================] - 58s 81ms/step - loss: 0.4116 - binary_accuracy: 0.7932 - val_loss: 0.3227 - val_binary_accuracy: 0.8625\n",
      "Epoch 183/300\n",
      "720/720 [==============================] - 59s 83ms/step - loss: 0.4166 - binary_accuracy: 0.8010 - val_loss: 0.3113 - val_binary_accuracy: 0.8590\n",
      "Epoch 184/300\n",
      "720/720 [==============================] - 58s 81ms/step - loss: 0.4101 - binary_accuracy: 0.8024 - val_loss: 0.3027 - val_binary_accuracy: 0.8681\n",
      "Epoch 185/300\n",
      "720/720 [==============================] - 58s 81ms/step - loss: 0.4038 - binary_accuracy: 0.8078 - val_loss: 0.3083 - val_binary_accuracy: 0.8653\n",
      "Epoch 186/300\n",
      "720/720 [==============================] - 58s 81ms/step - loss: 0.4202 - binary_accuracy: 0.7970 - val_loss: 0.3122 - val_binary_accuracy: 0.8604\n",
      "Epoch 187/300\n",
      "720/720 [==============================] - 58s 81ms/step - loss: 0.4141 - binary_accuracy: 0.7953 - val_loss: 0.3076 - val_binary_accuracy: 0.8604\n",
      "Epoch 188/300\n",
      "720/720 [==============================] - 57s 79ms/step - loss: 0.4285 - binary_accuracy: 0.7944 - val_loss: 0.3116 - val_binary_accuracy: 0.8618\n",
      "Epoch 189/300\n",
      "720/720 [==============================] - 57s 79ms/step - loss: 0.4149 - binary_accuracy: 0.7970 - val_loss: 0.3084 - val_binary_accuracy: 0.8646\n",
      "Epoch 190/300\n",
      "720/720 [==============================] - 57s 79ms/step - loss: 0.4242 - binary_accuracy: 0.7964 - val_loss: 0.3132 - val_binary_accuracy: 0.8708\n",
      "Epoch 191/300\n",
      "720/720 [==============================] - 57s 79ms/step - loss: 0.4245 - binary_accuracy: 0.7993 - val_loss: 0.3163 - val_binary_accuracy: 0.8681\n",
      "Epoch 192/300\n",
      "720/720 [==============================] - 57s 79ms/step - loss: 0.4234 - binary_accuracy: 0.7970 - val_loss: 0.3139 - val_binary_accuracy: 0.8736\n",
      "Epoch 193/300\n",
      "720/720 [==============================] - 57s 80ms/step - loss: 0.4129 - binary_accuracy: 0.7993 - val_loss: 0.3072 - val_binary_accuracy: 0.8694\n",
      "Epoch 194/300\n",
      "720/720 [==============================] - 57s 79ms/step - loss: 0.4092 - binary_accuracy: 0.8003 - val_loss: 0.3081 - val_binary_accuracy: 0.8576\n",
      "Epoch 195/300\n",
      "720/720 [==============================] - 57s 79ms/step - loss: 0.4064 - binary_accuracy: 0.8073 - val_loss: 0.3095 - val_binary_accuracy: 0.8625\n",
      "Epoch 196/300\n",
      "720/720 [==============================] - 57s 79ms/step - loss: 0.4054 - binary_accuracy: 0.8036 - val_loss: 0.3023 - val_binary_accuracy: 0.8611\n",
      "Epoch 197/300\n",
      "720/720 [==============================] - 57s 79ms/step - loss: 0.4088 - binary_accuracy: 0.8078 - val_loss: 0.3056 - val_binary_accuracy: 0.8632\n",
      "Epoch 198/300\n",
      "720/720 [==============================] - 57s 79ms/step - loss: 0.4148 - binary_accuracy: 0.8030 - val_loss: 0.3115 - val_binary_accuracy: 0.8646\n",
      "Epoch 199/300\n",
      "720/720 [==============================] - 57s 79ms/step - loss: 0.4220 - binary_accuracy: 0.7962 - val_loss: 0.3161 - val_binary_accuracy: 0.8562\n",
      "Epoch 200/300\n",
      "720/720 [==============================] - 57s 79ms/step - loss: 0.4215 - binary_accuracy: 0.7941 - val_loss: 0.3073 - val_binary_accuracy: 0.8611\n",
      "Epoch 201/300\n",
      "720/720 [==============================] - 57s 79ms/step - loss: 0.4031 - binary_accuracy: 0.8040 - val_loss: 0.3062 - val_binary_accuracy: 0.8653\n",
      "Epoch 202/300\n",
      "720/720 [==============================] - 57s 79ms/step - loss: 0.4142 - binary_accuracy: 0.8017 - val_loss: 0.3158 - val_binary_accuracy: 0.8667\n",
      "Epoch 203/300\n",
      "720/720 [==============================] - 57s 79ms/step - loss: 0.4100 - binary_accuracy: 0.8069 - val_loss: 0.3035 - val_binary_accuracy: 0.8667\n",
      "Epoch 204/300\n",
      "720/720 [==============================] - 57s 79ms/step - loss: 0.4145 - binary_accuracy: 0.8026 - val_loss: 0.3095 - val_binary_accuracy: 0.8590\n",
      "Epoch 205/300\n",
      "720/720 [==============================] - 57s 80ms/step - loss: 0.4098 - binary_accuracy: 0.8078 - val_loss: 0.3110 - val_binary_accuracy: 0.8708\n",
      "Epoch 206/300\n",
      "720/720 [==============================] - 57s 79ms/step - loss: 0.4139 - binary_accuracy: 0.8043 - val_loss: 0.3017 - val_binary_accuracy: 0.8694\n",
      "Epoch 207/300\n",
      "720/720 [==============================] - 57s 79ms/step - loss: 0.4186 - binary_accuracy: 0.8028 - val_loss: 0.3061 - val_binary_accuracy: 0.8611\n",
      "Epoch 208/300\n",
      "720/720 [==============================] - 57s 79ms/step - loss: 0.4036 - binary_accuracy: 0.8056 - val_loss: 0.3043 - val_binary_accuracy: 0.8660\n",
      "Epoch 209/300\n",
      "720/720 [==============================] - 57s 79ms/step - loss: 0.4075 - binary_accuracy: 0.8050 - val_loss: 0.3097 - val_binary_accuracy: 0.8590\n",
      "Epoch 210/300\n",
      "720/720 [==============================] - 57s 79ms/step - loss: 0.4290 - binary_accuracy: 0.7944 - val_loss: 0.3195 - val_binary_accuracy: 0.8639\n",
      "Epoch 211/300\n",
      "720/720 [==============================] - 57s 79ms/step - loss: 0.4155 - binary_accuracy: 0.8069 - val_loss: 0.3121 - val_binary_accuracy: 0.8708\n",
      "Epoch 212/300\n",
      "720/720 [==============================] - 57s 79ms/step - loss: 0.4195 - binary_accuracy: 0.7979 - val_loss: 0.3222 - val_binary_accuracy: 0.8576\n",
      "Epoch 213/300\n",
      "720/720 [==============================] - 57s 79ms/step - loss: 0.4095 - binary_accuracy: 0.8057 - val_loss: 0.3137 - val_binary_accuracy: 0.8653\n",
      "Epoch 214/300\n",
      "720/720 [==============================] - 57s 79ms/step - loss: 0.4028 - binary_accuracy: 0.8061 - val_loss: 0.3018 - val_binary_accuracy: 0.8681\n",
      "Epoch 215/300\n",
      "720/720 [==============================] - 57s 79ms/step - loss: 0.4129 - binary_accuracy: 0.7981 - val_loss: 0.3019 - val_binary_accuracy: 0.8694\n",
      "Epoch 216/300\n",
      "720/720 [==============================] - 57s 79ms/step - loss: 0.4163 - binary_accuracy: 0.8045 - val_loss: 0.3102 - val_binary_accuracy: 0.8590\n",
      "Epoch 217/300\n",
      "720/720 [==============================] - 57s 79ms/step - loss: 0.4100 - binary_accuracy: 0.8021 - val_loss: 0.3090 - val_binary_accuracy: 0.8674\n",
      "Epoch 218/300\n",
      "720/720 [==============================] - 57s 79ms/step - loss: 0.4182 - binary_accuracy: 0.7997 - val_loss: 0.3092 - val_binary_accuracy: 0.8715\n",
      "Epoch 219/300\n",
      "720/720 [==============================] - 57s 79ms/step - loss: 0.4154 - binary_accuracy: 0.8059 - val_loss: 0.3116 - val_binary_accuracy: 0.8514\n",
      "Epoch 220/300\n",
      "720/720 [==============================] - 57s 79ms/step - loss: 0.4054 - binary_accuracy: 0.8016 - val_loss: 0.3006 - val_binary_accuracy: 0.8736\n",
      "Epoch 221/300\n",
      "720/720 [==============================] - 57s 79ms/step - loss: 0.4150 - binary_accuracy: 0.8014 - val_loss: 0.3056 - val_binary_accuracy: 0.8660\n",
      "Epoch 222/300\n",
      "720/720 [==============================] - 57s 79ms/step - loss: 0.4115 - binary_accuracy: 0.8026 - val_loss: 0.3120 - val_binary_accuracy: 0.8667\n",
      "Epoch 223/300\n",
      "720/720 [==============================] - 57s 79ms/step - loss: 0.4232 - binary_accuracy: 0.7939 - val_loss: 0.3092 - val_binary_accuracy: 0.8590\n",
      "Epoch 224/300\n",
      "720/720 [==============================] - 57s 79ms/step - loss: 0.4080 - binary_accuracy: 0.8056 - val_loss: 0.3051 - val_binary_accuracy: 0.8625\n",
      "Epoch 225/300\n",
      "720/720 [==============================] - 57s 79ms/step - loss: 0.4095 - binary_accuracy: 0.8057 - val_loss: 0.3092 - val_binary_accuracy: 0.8660\n",
      "Epoch 226/300\n",
      "720/720 [==============================] - 57s 79ms/step - loss: 0.4117 - binary_accuracy: 0.8026 - val_loss: 0.3059 - val_binary_accuracy: 0.8681\n",
      "Epoch 227/300\n",
      "720/720 [==============================] - 57s 79ms/step - loss: 0.4099 - binary_accuracy: 0.8014 - val_loss: 0.3039 - val_binary_accuracy: 0.8646\n",
      "Epoch 228/300\n",
      "720/720 [==============================] - 57s 79ms/step - loss: 0.4128 - binary_accuracy: 0.8035 - val_loss: 0.3178 - val_binary_accuracy: 0.8646\n",
      "Epoch 229/300\n",
      "720/720 [==============================] - 57s 79ms/step - loss: 0.4133 - binary_accuracy: 0.8016 - val_loss: 0.3052 - val_binary_accuracy: 0.8736\n",
      "Epoch 230/300\n",
      "720/720 [==============================] - 57s 79ms/step - loss: 0.4120 - binary_accuracy: 0.7934 - val_loss: 0.3108 - val_binary_accuracy: 0.8694\n",
      "Epoch 231/300\n",
      "720/720 [==============================] - 57s 79ms/step - loss: 0.4156 - binary_accuracy: 0.8026 - val_loss: 0.3094 - val_binary_accuracy: 0.8625\n",
      "Epoch 232/300\n",
      "720/720 [==============================] - 57s 79ms/step - loss: 0.4044 - binary_accuracy: 0.8095 - val_loss: 0.3084 - val_binary_accuracy: 0.8611\n",
      "Epoch 233/300\n",
      "720/720 [==============================] - 57s 79ms/step - loss: 0.4025 - binary_accuracy: 0.8134 - val_loss: 0.3140 - val_binary_accuracy: 0.8618\n",
      "Epoch 234/300\n",
      "720/720 [==============================] - 57s 79ms/step - loss: 0.4186 - binary_accuracy: 0.7981 - val_loss: 0.3085 - val_binary_accuracy: 0.8701\n",
      "Epoch 235/300\n",
      "720/720 [==============================] - 57s 79ms/step - loss: 0.4207 - binary_accuracy: 0.7969 - val_loss: 0.3085 - val_binary_accuracy: 0.8639\n",
      "Epoch 236/300\n",
      "720/720 [==============================] - 57s 79ms/step - loss: 0.4025 - binary_accuracy: 0.8109 - val_loss: 0.3115 - val_binary_accuracy: 0.8632\n",
      "Epoch 237/300\n",
      "720/720 [==============================] - 57s 79ms/step - loss: 0.4179 - binary_accuracy: 0.7976 - val_loss: 0.3131 - val_binary_accuracy: 0.8625\n",
      "Epoch 238/300\n",
      "720/720 [==============================] - 57s 79ms/step - loss: 0.4202 - binary_accuracy: 0.7972 - val_loss: 0.3127 - val_binary_accuracy: 0.8694\n",
      "Epoch 239/300\n",
      "720/720 [==============================] - 57s 79ms/step - loss: 0.4115 - binary_accuracy: 0.8049 - val_loss: 0.3119 - val_binary_accuracy: 0.8653\n",
      "Epoch 240/300\n",
      "720/720 [==============================] - 57s 79ms/step - loss: 0.4224 - binary_accuracy: 0.7899 - val_loss: 0.3158 - val_binary_accuracy: 0.8611\n",
      "Epoch 241/300\n",
      "720/720 [==============================] - 57s 79ms/step - loss: 0.4223 - binary_accuracy: 0.7925 - val_loss: 0.3217 - val_binary_accuracy: 0.8729\n",
      "Epoch 242/300\n",
      "720/720 [==============================] - 57s 79ms/step - loss: 0.4010 - binary_accuracy: 0.8024 - val_loss: 0.3029 - val_binary_accuracy: 0.8618\n",
      "Epoch 243/300\n",
      "720/720 [==============================] - 57s 79ms/step - loss: 0.4006 - binary_accuracy: 0.8066 - val_loss: 0.3091 - val_binary_accuracy: 0.8653\n",
      "Epoch 244/300\n",
      "720/720 [==============================] - 57s 79ms/step - loss: 0.3997 - binary_accuracy: 0.8155 - val_loss: 0.3123 - val_binary_accuracy: 0.8653\n",
      "Epoch 245/300\n",
      "720/720 [==============================] - 57s 79ms/step - loss: 0.4256 - binary_accuracy: 0.7944 - val_loss: 0.3128 - val_binary_accuracy: 0.8771\n",
      "Epoch 246/300\n",
      "720/720 [==============================] - 57s 79ms/step - loss: 0.4004 - binary_accuracy: 0.8142 - val_loss: 0.3082 - val_binary_accuracy: 0.8736\n",
      "Epoch 247/300\n",
      "720/720 [==============================] - 57s 79ms/step - loss: 0.4110 - binary_accuracy: 0.8052 - val_loss: 0.3116 - val_binary_accuracy: 0.8639\n",
      "Epoch 248/300\n",
      "720/720 [==============================] - 57s 79ms/step - loss: 0.4154 - binary_accuracy: 0.7958 - val_loss: 0.3032 - val_binary_accuracy: 0.8771\n",
      "Epoch 249/300\n",
      "720/720 [==============================] - 57s 79ms/step - loss: 0.4121 - binary_accuracy: 0.8026 - val_loss: 0.3115 - val_binary_accuracy: 0.8681\n",
      "Epoch 250/300\n",
      "720/720 [==============================] - 57s 79ms/step - loss: 0.4101 - binary_accuracy: 0.8047 - val_loss: 0.3104 - val_binary_accuracy: 0.8590\n",
      "Epoch 251/300\n",
      "720/720 [==============================] - 57s 79ms/step - loss: 0.4187 - binary_accuracy: 0.8057 - val_loss: 0.3130 - val_binary_accuracy: 0.8722\n",
      "Epoch 252/300\n",
      "720/720 [==============================] - 57s 79ms/step - loss: 0.4070 - binary_accuracy: 0.8002 - val_loss: 0.3022 - val_binary_accuracy: 0.8653\n",
      "Epoch 253/300\n",
      "720/720 [==============================] - 57s 79ms/step - loss: 0.4170 - binary_accuracy: 0.8012 - val_loss: 0.3069 - val_binary_accuracy: 0.8715\n",
      "Epoch 254/300\n",
      "720/720 [==============================] - 57s 79ms/step - loss: 0.4123 - binary_accuracy: 0.8035 - val_loss: 0.2994 - val_binary_accuracy: 0.8708\n",
      "Epoch 255/300\n",
      "720/720 [==============================] - 57s 79ms/step - loss: 0.4188 - binary_accuracy: 0.8009 - val_loss: 0.3085 - val_binary_accuracy: 0.8653\n",
      "Epoch 256/300\n",
      "720/720 [==============================] - 57s 79ms/step - loss: 0.4181 - binary_accuracy: 0.7979 - val_loss: 0.3073 - val_binary_accuracy: 0.8667\n",
      "Epoch 257/300\n",
      "720/720 [==============================] - 57s 79ms/step - loss: 0.4029 - binary_accuracy: 0.8130 - val_loss: 0.2990 - val_binary_accuracy: 0.8646\n",
      "Epoch 258/300\n",
      "720/720 [==============================] - 57s 79ms/step - loss: 0.4108 - binary_accuracy: 0.8085 - val_loss: 0.3025 - val_binary_accuracy: 0.8681\n",
      "Epoch 259/300\n",
      "720/720 [==============================] - 57s 79ms/step - loss: 0.4100 - binary_accuracy: 0.8000 - val_loss: 0.3081 - val_binary_accuracy: 0.8687\n",
      "Epoch 260/300\n",
      "720/720 [==============================] - 57s 79ms/step - loss: 0.4021 - binary_accuracy: 0.8108 - val_loss: 0.3019 - val_binary_accuracy: 0.8625\n",
      "Epoch 261/300\n",
      "720/720 [==============================] - 57s 79ms/step - loss: 0.4114 - binary_accuracy: 0.8040 - val_loss: 0.3110 - val_binary_accuracy: 0.8625\n",
      "Epoch 262/300\n",
      "720/720 [==============================] - 57s 79ms/step - loss: 0.4105 - binary_accuracy: 0.8094 - val_loss: 0.3053 - val_binary_accuracy: 0.8694\n",
      "Epoch 263/300\n",
      "720/720 [==============================] - 57s 79ms/step - loss: 0.4026 - binary_accuracy: 0.8071 - val_loss: 0.3018 - val_binary_accuracy: 0.8667\n",
      "Epoch 264/300\n",
      "720/720 [==============================] - 57s 79ms/step - loss: 0.4023 - binary_accuracy: 0.8097 - val_loss: 0.2995 - val_binary_accuracy: 0.8729\n",
      "Epoch 265/300\n",
      "720/720 [==============================] - 57s 79ms/step - loss: 0.4056 - binary_accuracy: 0.8090 - val_loss: 0.3083 - val_binary_accuracy: 0.8667\n",
      "Epoch 266/300\n",
      "720/720 [==============================] - 57s 79ms/step - loss: 0.4022 - binary_accuracy: 0.8068 - val_loss: 0.3025 - val_binary_accuracy: 0.8757\n",
      "Epoch 267/300\n",
      "720/720 [==============================] - 57s 79ms/step - loss: 0.4148 - binary_accuracy: 0.8087 - val_loss: 0.3044 - val_binary_accuracy: 0.8674\n",
      "Epoch 268/300\n",
      "720/720 [==============================] - 57s 79ms/step - loss: 0.4040 - binary_accuracy: 0.8085 - val_loss: 0.3065 - val_binary_accuracy: 0.8687\n",
      "Epoch 269/300\n",
      "720/720 [==============================] - 57s 80ms/step - loss: 0.4240 - binary_accuracy: 0.7960 - val_loss: 0.3083 - val_binary_accuracy: 0.8687\n",
      "Epoch 270/300\n",
      "720/720 [==============================] - 57s 80ms/step - loss: 0.4002 - binary_accuracy: 0.8122 - val_loss: 0.3101 - val_binary_accuracy: 0.8687\n",
      "Epoch 271/300\n",
      "720/720 [==============================] - 57s 80ms/step - loss: 0.4158 - binary_accuracy: 0.8019 - val_loss: 0.3069 - val_binary_accuracy: 0.8701\n",
      "Epoch 272/300\n",
      "720/720 [==============================] - 57s 79ms/step - loss: 0.4061 - binary_accuracy: 0.8062 - val_loss: 0.3111 - val_binary_accuracy: 0.8576\n",
      "Epoch 273/300\n",
      "720/720 [==============================] - 57s 80ms/step - loss: 0.4107 - binary_accuracy: 0.8040 - val_loss: 0.3106 - val_binary_accuracy: 0.8681\n",
      "Epoch 274/300\n",
      "720/720 [==============================] - 57s 80ms/step - loss: 0.4178 - binary_accuracy: 0.8023 - val_loss: 0.3087 - val_binary_accuracy: 0.8604\n",
      "Epoch 275/300\n",
      "720/720 [==============================] - 57s 80ms/step - loss: 0.4045 - binary_accuracy: 0.8092 - val_loss: 0.3118 - val_binary_accuracy: 0.8646\n",
      "Epoch 276/300\n",
      "720/720 [==============================] - 57s 79ms/step - loss: 0.4138 - binary_accuracy: 0.8073 - val_loss: 0.3027 - val_binary_accuracy: 0.8653\n",
      "Epoch 277/300\n",
      "720/720 [==============================] - 57s 80ms/step - loss: 0.4024 - binary_accuracy: 0.8092 - val_loss: 0.3023 - val_binary_accuracy: 0.8667\n",
      "Epoch 278/300\n",
      "720/720 [==============================] - 57s 79ms/step - loss: 0.4147 - binary_accuracy: 0.7991 - val_loss: 0.3057 - val_binary_accuracy: 0.8694\n",
      "Epoch 279/300\n",
      "720/720 [==============================] - 57s 79ms/step - loss: 0.4046 - binary_accuracy: 0.8059 - val_loss: 0.3091 - val_binary_accuracy: 0.8625\n",
      "Epoch 280/300\n",
      "720/720 [==============================] - 57s 80ms/step - loss: 0.4158 - binary_accuracy: 0.8000 - val_loss: 0.3134 - val_binary_accuracy: 0.8632\n",
      "Epoch 281/300\n",
      "720/720 [==============================] - 57s 80ms/step - loss: 0.4158 - binary_accuracy: 0.7960 - val_loss: 0.3129 - val_binary_accuracy: 0.8694\n",
      "Epoch 282/300\n",
      "720/720 [==============================] - 57s 79ms/step - loss: 0.4138 - binary_accuracy: 0.8030 - val_loss: 0.3046 - val_binary_accuracy: 0.8750\n",
      "Epoch 283/300\n",
      "720/720 [==============================] - 57s 79ms/step - loss: 0.4217 - binary_accuracy: 0.8003 - val_loss: 0.3240 - val_binary_accuracy: 0.8708\n",
      "Epoch 284/300\n",
      "720/720 [==============================] - 57s 80ms/step - loss: 0.4051 - binary_accuracy: 0.8155 - val_loss: 0.3081 - val_binary_accuracy: 0.8715\n",
      "Epoch 285/300\n",
      "720/720 [==============================] - 57s 80ms/step - loss: 0.4130 - binary_accuracy: 0.8052 - val_loss: 0.3169 - val_binary_accuracy: 0.8674\n",
      "Epoch 286/300\n",
      "720/720 [==============================] - 57s 80ms/step - loss: 0.4066 - binary_accuracy: 0.8038 - val_loss: 0.3081 - val_binary_accuracy: 0.8660\n",
      "Epoch 287/300\n",
      "720/720 [==============================] - 57s 80ms/step - loss: 0.4099 - binary_accuracy: 0.8009 - val_loss: 0.3064 - val_binary_accuracy: 0.8646\n",
      "Epoch 288/300\n",
      "720/720 [==============================] - 57s 80ms/step - loss: 0.4091 - binary_accuracy: 0.8007 - val_loss: 0.3082 - val_binary_accuracy: 0.8729\n",
      "Epoch 289/300\n",
      "720/720 [==============================] - 57s 79ms/step - loss: 0.4078 - binary_accuracy: 0.8061 - val_loss: 0.3090 - val_binary_accuracy: 0.8660\n",
      "Epoch 290/300\n",
      "720/720 [==============================] - 57s 80ms/step - loss: 0.4114 - binary_accuracy: 0.8101 - val_loss: 0.3131 - val_binary_accuracy: 0.8729\n",
      "Epoch 291/300\n",
      "720/720 [==============================] - 57s 80ms/step - loss: 0.3965 - binary_accuracy: 0.8132 - val_loss: 0.3071 - val_binary_accuracy: 0.8674\n",
      "Epoch 292/300\n",
      "720/720 [==============================] - 57s 80ms/step - loss: 0.4080 - binary_accuracy: 0.8047 - val_loss: 0.3031 - val_binary_accuracy: 0.8701\n",
      "Epoch 293/300\n",
      "720/720 [==============================] - 57s 79ms/step - loss: 0.4123 - binary_accuracy: 0.8047 - val_loss: 0.3144 - val_binary_accuracy: 0.8687\n",
      "Epoch 294/300\n",
      "720/720 [==============================] - 57s 80ms/step - loss: 0.4131 - binary_accuracy: 0.8030 - val_loss: 0.3073 - val_binary_accuracy: 0.8632\n",
      "Epoch 295/300\n",
      "720/720 [==============================] - 57s 79ms/step - loss: 0.4124 - binary_accuracy: 0.8002 - val_loss: 0.3020 - val_binary_accuracy: 0.8611\n",
      "Epoch 296/300\n",
      "720/720 [==============================] - 57s 80ms/step - loss: 0.4021 - binary_accuracy: 0.8071 - val_loss: 0.3043 - val_binary_accuracy: 0.8694\n",
      "Epoch 297/300\n",
      "720/720 [==============================] - 57s 80ms/step - loss: 0.4120 - binary_accuracy: 0.8017 - val_loss: 0.3109 - val_binary_accuracy: 0.8701\n",
      "Epoch 298/300\n",
      "720/720 [==============================] - 57s 80ms/step - loss: 0.3995 - binary_accuracy: 0.8127 - val_loss: 0.3019 - val_binary_accuracy: 0.8639\n",
      "Epoch 299/300\n",
      "720/720 [==============================] - 56s 78ms/step - loss: 0.4093 - binary_accuracy: 0.8085 - val_loss: 0.2999 - val_binary_accuracy: 0.8625\n",
      "Epoch 300/300\n",
      "720/720 [==============================] - 57s 79ms/step - loss: 0.4038 - binary_accuracy: 0.8076 - val_loss: 0.2969 - val_binary_accuracy: 0.8715\n"
     ]
    }
   ],
   "source": [
    "num_epochs = 300\n",
    "batch_size = 8\n",
    "history = model.fit(\n",
    "    train_docs,\n",
    "    train_labels,\n",
    "    epochs=num_epochs,\n",
    "    batch_size=batch_size,\n",
    "    validation_data=(test_docs, test_labels),\n",
    "    callbacks=[model_checkpoint_callback]\n",
    ")"
   ]
  },
  {
   "cell_type": "code",
   "execution_count": 31,
   "id": "2db411a1-3b39-4dd5-956c-eaa762ea3fa7",
   "metadata": {
    "colab": {},
    "colab_type": "code",
    "id": "VcvSXvhp-llb"
   },
   "outputs": [
    {
     "data": {
      "text/plain": [
       "dict_keys(['loss', 'binary_accuracy', 'val_loss', 'val_binary_accuracy'])"
      ]
     },
     "execution_count": 31,
     "metadata": {},
     "output_type": "execute_result"
    }
   ],
   "source": [
    "history_dict = history.history\n",
    "history_dict.keys()"
   ]
  },
  {
   "cell_type": "code",
   "execution_count": 32,
   "id": "c2cc13d7-993b-4f6b-879e-d58dededba60",
   "metadata": {
    "colab": {},
    "colab_type": "code",
    "id": "nGoYf2Js-lle"
   },
   "outputs": [
    {
     "data": {
      "image/png": "[encoded data removed]",
      "text/plain": [
       "<Figure size 432x288 with 1 Axes>"
      ]
     },
     "metadata": {
      "needs_background": "light"
     },
     "output_type": "display_data"
    }
   ],
   "source": [
    "import matplotlib.pyplot as plt\n",
    "\n",
    "acc = history_dict['binary_accuracy']\n",
    "val_acc = history_dict['val_binary_accuracy']\n",
    "loss = history_dict['loss']\n",
    "val_loss = history_dict['val_loss']\n",
    "\n",
    "epochs = range(1, len(acc) + 1)\n",
    "\n",
    "# \"bo\" is for \"blue dot\"\n",
    "plt.plot(epochs, loss, 'bo', label='Training loss')\n",
    "# b is for \"solid blue line\"\n",
    "plt.plot(epochs, val_loss, 'b', label='Validation loss')\n",
    "plt.title('Training and validation loss')\n",
    "plt.xlabel('Epochs')\n",
    "plt.ylabel('Loss')\n",
    "plt.legend()\n",
    "\n",
    "plt.show()"
   ]
  },
  {
   "cell_type": "code",
   "execution_count": 33,
   "id": "e7730a3b-664d-4d06-9f2c-c227723033f1",
   "metadata": {
    "colab": {},
    "colab_type": "code",
    "id": "6hXx-xOv-llh"
   },
   "outputs": [
    {
     "data": {
      "image/png": "[encoded data removed]",
      "text/plain": [
       "<Figure size 432x288 with 1 Axes>"
      ]
     },
     "metadata": {
      "needs_background": "light"
     },
     "output_type": "display_data"
    }
   ],
   "source": [
    "plt.clf()  # clear figure\n",
    "\n",
    "plt.plot(epochs, acc, 'bo', label='Training acc')\n",
    "plt.plot(epochs, val_acc, 'b', label='Validation acc')\n",
    "plt.title('Training and validation accuracy')\n",
    "plt.xlabel('Epochs')\n",
    "plt.ylabel('Accuracy')\n",
    "plt.legend()\n",
    "\n",
    "plt.show()"
   ]
  },
  {
   "cell_type": "code",
   "execution_count": 34,
   "id": "e41e8efc-a3d9-4e64-99a6-62311a5069d3",
   "metadata": {},
   "outputs": [],
   "source": [
    "import seaborn as sn"
   ]
  },
  {
   "cell_type": "code",
   "execution_count": 35,
   "id": "e7bd5938-108f-4487-a397-1c25d6bfabc0",
   "metadata": {
    "tags": []
   },
   "outputs": [],
   "source": [
    "confusion_matrix = tf.math.confusion_matrix(np.where(model.predict(test_docs)>=0,1,0), test_labels)\n",
    "\n",
    "df_cm = pd.DataFrame(confusion_matrix.numpy(), index = [\"Fake News\",\"True News\"],\n",
    "                  columns = [\"Fake News\",\"True News\"])\n",
    "\n",
    "df_cm_percentual = pd.DataFrame(confusion_matrix.numpy()/confusion_matrix.numpy().sum(axis=1)[:,None], index = [\"Fake News\",\"True News\"],\n",
    "                  columns = [\"Fake News\",\"True News\"])"
   ]
  },
  {
   "cell_type": "code",
   "execution_count": 36,
   "id": "c4b5f5fe-afbf-426e-b3a8-b2631ce6d82d",
   "metadata": {
    "tags": []
   },
   "outputs": [
    {
     "data": {
      "text/plain": [
       "<AxesSubplot:>"
      ]
     },
     "execution_count": 36,
     "metadata": {},
     "output_type": "execute_result"
    },
    {
     "data": {
      "image/png": "[encoded data removed]",
      "text/plain": [
       "<Figure size 432x360 with 2 Axes>"
      ]
     },
     "metadata": {
      "needs_background": "light"
     },
     "output_type": "display_data"
    },
    {
     "data": {
      "image/png": "[encoded data removed]",
      "text/plain": [
       "<Figure size 432x360 with 2 Axes>"
      ]
     },
     "metadata": {
      "needs_background": "light"
     },
     "output_type": "display_data"
    }
   ],
   "source": [
    "plt.figure(figsize = (6,5))\n",
    "sn.heatmap(df_cm, annot=True,fmt='g',cmap = sn.color_palette(\"mako\", as_cmap=True))\n",
    "plt.figure(figsize = (6,5))\n",
    "sn.heatmap(df_cm_percentual, annot=True,fmt='0.2g',cmap = sn.color_palette(\"mako\", as_cmap=True))\n"
   ]
  }
 ],
 "metadata": {
  "kernelspec": {
   "display_name": "Python 3",
   "language": "python",
   "name": "python3"
  },
  "language_info": {
   "codemirror_mode": {
    "name": "ipython",
    "version": 3
   },
   "file_extension": ".py",
   "mimetype": "text/x-python",
   "name": "python",
   "nbconvert_exporter": "python",
   "pygments_lexer": "ipython3",
   "version": "3.9.5"
  }
 },
 "nbformat": 4,
 "nbformat_minor": 5
}
