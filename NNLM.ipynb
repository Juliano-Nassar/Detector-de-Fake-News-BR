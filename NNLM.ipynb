{
 "cells": [
  {
   "cell_type": "markdown",
   "id": "45dab6c6-da0d-44cc-b369-4231c59fd9ca",
   "metadata": {},
   "source": [
    "## Pre Processed Data"
   ]
  },
  {
   "cell_type": "code",
   "execution_count": 1,
   "id": "b840a689-bfa2-4eb7-b9c8-e4fcf1231922",
   "metadata": {},
   "outputs": [],
   "source": [
    "from pathlib import Path\n",
    "import pandas as pd\n",
    "import numpy as np"
   ]
  },
  {
   "cell_type": "code",
   "execution_count": 2,
   "id": "140890ea-985d-48b0-b75e-2fd0e7969d0f",
   "metadata": {},
   "outputs": [],
   "source": [
    "home_PATH = Path.cwd()\n",
    "preprocessed_PATH = Path(home_PATH,\"dados\",\"Fake.br-Corpus-master\",\"preprocessed\").glob('**/*')\n",
    "preprocessd_file = [x for x in preprocessed_PATH if x.is_file()]"
   ]
  },
  {
   "cell_type": "code",
   "execution_count": 3,
   "id": "1c2034a0-b134-47ec-87a8-ba9a74a4b470",
   "metadata": {},
   "outputs": [],
   "source": [
    "df = pd.read_csv(preprocessd_file[0]).drop(columns=['index'])"
   ]
  },
  {
   "cell_type": "code",
   "execution_count": 4,
   "id": "79e5a516-214c-42da-8ca1-b3ed3067e663",
   "metadata": {},
   "outputs": [
    {
     "data": {
      "text/html": [
       "<div>\n",
       "<style scoped>\n",
       "    .dataframe tbody tr th:only-of-type {\n",
       "        vertical-align: middle;\n",
       "    }\n",
       "\n",
       "    .dataframe tbody tr th {\n",
       "        vertical-align: top;\n",
       "    }\n",
       "\n",
       "    .dataframe thead th {\n",
       "        text-align: right;\n",
       "    }\n",
       "</style>\n",
       "<table border=\"1\" class=\"dataframe\">\n",
       "  <thead>\n",
       "    <tr style=\"text-align: right;\">\n",
       "      <th></th>\n",
       "      <th>label</th>\n",
       "      <th>preprocessed_news</th>\n",
       "    </tr>\n",
       "  </thead>\n",
       "  <tbody>\n",
       "    <tr>\n",
       "      <th>0</th>\n",
       "      <td>fake</td>\n",
       "      <td>katia abreu diz vai colocar expulsao moldura n...</td>\n",
       "    </tr>\n",
       "    <tr>\n",
       "      <th>1</th>\n",
       "      <td>fake</td>\n",
       "      <td>ray peita bolsonaro conservador fake entrevist...</td>\n",
       "    </tr>\n",
       "    <tr>\n",
       "      <th>2</th>\n",
       "      <td>fake</td>\n",
       "      <td>reinaldo azevedo desmascarado policia federal ...</td>\n",
       "    </tr>\n",
       "    <tr>\n",
       "      <th>3</th>\n",
       "      <td>fake</td>\n",
       "      <td>relatorio assustador bndes mostra dinheiro pub...</td>\n",
       "    </tr>\n",
       "    <tr>\n",
       "      <th>4</th>\n",
       "      <td>fake</td>\n",
       "      <td>radialista americano fala sobre pt vendem ilus...</td>\n",
       "    </tr>\n",
       "  </tbody>\n",
       "</table>\n",
       "</div>"
      ],
      "text/plain": [
       "  label                                  preprocessed_news\n",
       "0  fake  katia abreu diz vai colocar expulsao moldura n...\n",
       "1  fake  ray peita bolsonaro conservador fake entrevist...\n",
       "2  fake  reinaldo azevedo desmascarado policia federal ...\n",
       "3  fake  relatorio assustador bndes mostra dinheiro pub...\n",
       "4  fake  radialista americano fala sobre pt vendem ilus..."
      ]
     },
     "execution_count": 4,
     "metadata": {},
     "output_type": "execute_result"
    }
   ],
   "source": [
    "df.head()"
   ]
  },
  {
   "cell_type": "code",
   "execution_count": 5,
   "id": "02df8a6a-3ac0-4a56-ae83-350a9a0a6896",
   "metadata": {
    "tags": []
   },
   "outputs": [],
   "source": [
    "df = df.replace({'label': {'true': 1, 'fake': 0}})"
   ]
  },
  {
   "cell_type": "code",
   "execution_count": 6,
   "id": "89eb8b2f-7dc8-44f5-9b2b-0196d1af3602",
   "metadata": {
    "tags": []
   },
   "outputs": [],
   "source": [
    "corpus = list(df['preprocessed_news'])"
   ]
  },
  {
   "cell_type": "markdown",
   "id": "f161693b-941f-4e53-a53a-44419aa7a77a",
   "metadata": {},
   "source": [
    "## Not Pre-Processed Data"
   ]
  },
  {
   "cell_type": "code",
   "execution_count": 7,
   "id": "8082366e-2c5c-4841-b4ad-4fab2735e450",
   "metadata": {},
   "outputs": [
    {
     "name": "stdout",
     "output_type": "stream",
     "text": [
      "<generator object Path.glob at 0x0000020F11E7D350>\n"
     ]
    }
   ],
   "source": [
    "home_PATH = Path.cwd()\n",
    "fake_PATH = Path(home_PATH,\"dados\",\"Fake.br-Corpus-master\",\"full_texts\",\"fake\").glob('**/*')\n",
    "true_PATH = Path(home_PATH,\"dados\",\"Fake.br-Corpus-master\",\"full_texts\",\"true\").glob('**/*')\n",
    "print(fake_PATH)"
   ]
  },
  {
   "cell_type": "code",
   "execution_count": 8,
   "id": "7d551b5f-8cba-44e6-96a9-e3cf04e95460",
   "metadata": {},
   "outputs": [],
   "source": [
    "# Fake \n",
    "fake_files_txt = [x for x in fake_PATH if x.is_file()]\n",
    "fake = []\n",
    "#Real\n",
    "true_files_txt = [x for x in true_PATH if x.is_file()]\n",
    "true = []\n"
   ]
  },
  {
   "cell_type": "code",
   "execution_count": 9,
   "id": "bb9416fd-5d5e-4750-ab68-1c1464280dae",
   "metadata": {},
   "outputs": [],
   "source": [
    "def replace_all(text, dic):\n",
    "    for i, j in dic.iteritems():\n",
    "        text = text.replace(i, j)\n",
    "    return text\n",
    "#dic = {\"\\n\":\"\",\"\\x\":\"\"}"
   ]
  },
  {
   "cell_type": "code",
   "execution_count": 10,
   "id": "43dac4af-17df-41eb-8e92-8f4cee37bae4",
   "metadata": {},
   "outputs": [],
   "source": [
    "def create_true_fake_list(fake_true_files_txt):\n",
    "    fake_true_list = []\n",
    "    for file in fake_true_files_txt:\n",
    "        with open(file, 'r',encoding=\"utf8\") as f:\n",
    "            fake_true_list.append(f.read())\n",
    "    return fake_true_list"
   ]
  },
  {
   "cell_type": "code",
   "execution_count": 11,
   "id": "535356e5-0960-4113-9ff1-e7492301f04a",
   "metadata": {},
   "outputs": [],
   "source": [
    "fake = create_true_fake_list(fake_files_txt)\n",
    "true = create_true_fake_list(true_files_txt)"
   ]
  },
  {
   "cell_type": "code",
   "execution_count": 12,
   "id": "5197e2ec-73b4-422a-9461-340cb0479ad2",
   "metadata": {},
   "outputs": [
    {
     "data": {
      "text/plain": [
       "'Kátia Abreu diz que vai colocar sua expulsão em uma moldura, mas não para de reclamar.\\t\\n\\nA senadora Kátia Abreu (sem partido-TO) disse que sua expulsão do PMDB foi resultado de uma ação da cúpula atual da legenda que, segundo ela, é oportunista.\\n\\n“Amanhã eu vou botar numa moldura dourada a minha expulsão, porque das mãos de onde veio, é um atestado de boa conduta para o meu currículo. Essas pessoas que me expulsaram não servem ao país. Eles se servem do país em seus benefícios próprios”, disse Kátia Abreu.\\n\\nUé, mas se a expulsão é algo tão bom para seu currículo, por que tanta choradeira, Kátia?\\n\\nSabemos o motivo. Provavelmente Kátia não tem valor para o PT, partido que já deveria tê-la absorvido. Ao que parece o PT gostava de Kátia somente se ela ficasse entrincheirada dentro do PMDB.\\n\\nOu seja, isso é se rebaixar demais. Resta a Kátia ficar chorando as pitangas por todos os cantos.\\n\\nEm tempo: até o momento o PT não cadastrou Kátia Abreu em suas fileiras. Que situação patética para a ex-ministra da Agricultura de Dilma.'"
      ]
     },
     "execution_count": 12,
     "metadata": {},
     "output_type": "execute_result"
    }
   ],
   "source": [
    "fake[0]"
   ]
  },
  {
   "cell_type": "code",
   "execution_count": 13,
   "id": "2ff966e2-dea9-4390-84c6-a5ae6f5584a6",
   "metadata": {},
   "outputs": [
    {
     "data": {
      "text/plain": [
       "'\\ufeffO Podemos decidiu  expulsar o deputado federal Carlos Gaguim do partido após a Polícia Federal fazer buscas a apreensões no gabinete dele na Câmara. Com isso, a legenda abre espaço para receber a senadora expulsa pelo PMDB, Katia Abreu. Por meio de nota, a legenda informou que o afastamento do parlamentar já era algo acordado entre os filiados da sigla.  “Ainda que o parlamentar tenha comunicado a conclusão de sua desfiliação para esta semana, diante dos fatos noticiados hoje, a Executiva Nacional do Podemos solicita o imediato cancelamento de sua filiação dos quadros do partido”.\\n\\nO partido, que no passado chegou a cogitar lançar o parlamentar como candidato ao Senado, diz que “apoia a investigação com a ampla apuração dos eventuais crimes cometidos e a consequente responsabilização dos envolvidos, para que todos sejam punidos com o máximo rigor da Lei, independentemente de posição ou cargo ocupado”. '"
      ]
     },
     "execution_count": 13,
     "metadata": {},
     "output_type": "execute_result"
    }
   ],
   "source": [
    "true[0]"
   ]
  },
  {
   "cell_type": "code",
   "execution_count": 14,
   "id": "34bef363-902e-436c-b647-98f51d179969",
   "metadata": {},
   "outputs": [],
   "source": [
    "from nltk.tokenize import TweetTokenizer\n",
    "\n",
    "tknzr = TweetTokenizer()\n",
    "fake_proc = [\" \".join(tknzr.tokenize(x)) for x in fake]\n",
    "true_proc = [\" \".join(tknzr.tokenize(x)) for x in true]\n"
   ]
  },
  {
   "cell_type": "code",
   "execution_count": 15,
   "id": "a7283954-e231-440c-8f67-c856f64ee07b",
   "metadata": {},
   "outputs": [],
   "source": [
    "fake_result = [0]*len(fake)\n",
    "true_result = [1]*len(true)\n",
    "\n",
    "data_proc = fake_proc + true_proc\n",
    "data_result = fake_result + true_result"
   ]
  },
  {
   "cell_type": "code",
   "execution_count": 16,
   "id": "53da3588-d099-4689-997a-347fcbb37ffa",
   "metadata": {},
   "outputs": [],
   "source": [
    "df = pd.DataFrame({\"Text\":data_proc, \"label\":data_result})"
   ]
  },
  {
   "cell_type": "code",
   "execution_count": 17,
   "id": "a46b2764-5309-4d60-8975-276ac4a9079e",
   "metadata": {},
   "outputs": [],
   "source": [
    "corpus = list(df['Text'])"
   ]
  },
  {
   "cell_type": "code",
   "execution_count": 18,
   "id": "513d4eb8-0f44-4a46-a4b4-2d451d6a03c0",
   "metadata": {},
   "outputs": [
    {
     "data": {
      "text/html": [
       "<div>\n",
       "<style scoped>\n",
       "    .dataframe tbody tr th:only-of-type {\n",
       "        vertical-align: middle;\n",
       "    }\n",
       "\n",
       "    .dataframe tbody tr th {\n",
       "        vertical-align: top;\n",
       "    }\n",
       "\n",
       "    .dataframe thead th {\n",
       "        text-align: right;\n",
       "    }\n",
       "</style>\n",
       "<table border=\"1\" class=\"dataframe\">\n",
       "  <thead>\n",
       "    <tr style=\"text-align: right;\">\n",
       "      <th></th>\n",
       "      <th>Text</th>\n",
       "      <th>label</th>\n",
       "    </tr>\n",
       "  </thead>\n",
       "  <tbody>\n",
       "    <tr>\n",
       "      <th>7195</th>\n",
       "      <td>Para jornal britânico , ação contra Lula na La...</td>\n",
       "      <td>1</td>\n",
       "    </tr>\n",
       "    <tr>\n",
       "      <th>7196</th>\n",
       "      <td>Temer diz que acionou PF e Cade para investiga...</td>\n",
       "      <td>1</td>\n",
       "    </tr>\n",
       "    <tr>\n",
       "      <th>7197</th>\n",
       "      <td>Os obstáculos políticos de Temer em 2017 . Esp...</td>\n",
       "      <td>1</td>\n",
       "    </tr>\n",
       "    <tr>\n",
       "      <th>7198</th>\n",
       "      <td>Sexta-feira , 15 de setembro de 2017 . Boa noi...</td>\n",
       "      <td>1</td>\n",
       "    </tr>\n",
       "    <tr>\n",
       "      <th>7199</th>\n",
       "      <td>' Não me envolvo em política ' , diz brasileir...</td>\n",
       "      <td>1</td>\n",
       "    </tr>\n",
       "  </tbody>\n",
       "</table>\n",
       "</div>"
      ],
      "text/plain": [
       "                                                   Text  label\n",
       "7195  Para jornal britânico , ação contra Lula na La...      1\n",
       "7196  Temer diz que acionou PF e Cade para investiga...      1\n",
       "7197  Os obstáculos políticos de Temer em 2017 . Esp...      1\n",
       "7198  Sexta-feira , 15 de setembro de 2017 . Boa noi...      1\n",
       "7199  ' Não me envolvo em política ' , diz brasileir...      1"
      ]
     },
     "execution_count": 18,
     "metadata": {},
     "output_type": "execute_result"
    }
   ],
   "source": [
    "df.tail()"
   ]
  },
  {
   "cell_type": "markdown",
   "id": "e2aed232-da69-4aa6-b48f-e5501c56cc2e",
   "metadata": {},
   "source": [
    "### Keras"
   ]
  },
  {
   "cell_type": "code",
   "execution_count": 19,
   "id": "6bd8e8a8-0ea9-4309-95be-7259d519c4af",
   "metadata": {
    "tags": []
   },
   "outputs": [],
   "source": [
    "import tensorflow as tf\n",
    "import tensorflow_hub as hub\n",
    "import tensorflow_text"
   ]
  },
  {
   "cell_type": "code",
   "execution_count": 20,
   "id": "cb44e9d6-0e65-4584-9906-d44c688440b9",
   "metadata": {},
   "outputs": [],
   "source": [
    "from sklearn.model_selection import train_test_split\n",
    "\n",
    "\n",
    "test_size = 0.2\n",
    "\n",
    "train_docs, test_docs, train_labels, test_labels = train_test_split(np.array(corpus), np.array(df['label']), test_size=test_size,random_state=42)"
   ]
  },
  {
   "cell_type": "code",
   "execution_count": 21,
   "id": "4da96a3e-b626-4c05-ab24-57a2f9cfb760",
   "metadata": {},
   "outputs": [
    {
     "data": {
      "text/plain": [
       "0.5013888888888889"
      ]
     },
     "execution_count": 21,
     "metadata": {},
     "output_type": "execute_result"
    }
   ],
   "source": [
    "np.count_nonzero(np.array(test_labels)==1)/len(test_labels)"
   ]
  },
  {
   "cell_type": "code",
   "execution_count": 22,
   "id": "48ea5f9f-670c-4ca7-865d-326d595a3a79",
   "metadata": {},
   "outputs": [],
   "source": [
    "tfhub_handle_preprocess = \"https://tfhub.dev/google/universal-sentence-encoder-cmlm/multilingual-preprocess/2\"\n",
    "\n",
    "tfhub_handle_encoder = \"https://tfhub.dev/google/nnlm-es-dim128/2\"\n",
    "\n",
    "def build_classifier_model():\n",
    "    text_input = tf.keras.layers.Input(shape=(), dtype=tf.string, name='text')\n",
    "    preprocessing_layer = hub.KerasLayer(tfhub_handle_preprocess, name='preprocessing')\n",
    "    #encoder_inputs = preprocessing_layer(text_input)\n",
    "    encoder = hub.KerasLayer(tfhub_handle_encoder, trainable=True, name='BERT_encoder')\n",
    "#     outputs = encoder(encoder_inputs)\n",
    "#     net = outputs['pooled_output']\n",
    "#    return tf.keras.Model(text_input, net)\n",
    "\n",
    "    return encoder"
   ]
  },
  {
   "cell_type": "code",
   "execution_count": 23,
   "id": "cadb3bbc-87c3-4744-a22b-b5f18102d2a6",
   "metadata": {},
   "outputs": [],
   "source": [
    "UniversalSentence_layer = hub.KerasLayer(build_classifier_model(),\n",
    "                           #output_shape=[128],\n",
    "                           input_shape=[],\n",
    "                           dtype=tf.string,\n",
    "                           trainable=True,\n",
    "                           name='encodder')"
   ]
  },
  {
   "cell_type": "code",
   "execution_count": 24,
   "id": "46014e62-c9e1-41db-a97e-e621dad63c1c",
   "metadata": {},
   "outputs": [],
   "source": [
    "model = tf.keras.Sequential([\n",
    "    UniversalSentence_layer,\n",
    "#     tf.keras.layers.BatchNormalization(),\n",
    "#     tf.keras.layers.Dense(16, activation='relu'),\n",
    "#     tf.keras.layers.Dense(1),\n",
    "    tf.keras.layers.BatchNormalization(),\n",
    "    tf.keras.layers.Dropout(rate=0.7),\n",
    "    tf.keras.layers.Dense(128, activation='relu'),\n",
    "    tf.keras.layers.BatchNormalization(),\n",
    "    tf.keras.layers.Dropout(rate=0.7),\n",
    "    tf.keras.layers.Dense(1)\n",
    "])"
   ]
  },
  {
   "cell_type": "code",
   "execution_count": 25,
   "id": "e9c10364-1d30-487c-a7b4-bbfe9c9061a7",
   "metadata": {
    "tags": []
   },
   "outputs": [
    {
     "name": "stdout",
     "output_type": "stream",
     "text": [
      "Model: \"sequential\"\n",
      "_________________________________________________________________\n",
      "Layer (type)                 Output Shape              Param #   \n",
      "=================================================================\n",
      "encodder (KerasLayer)        (None, 128)               125009920 \n",
      "_________________________________________________________________\n",
      "batch_normalization (BatchNo (None, 128)               512       \n",
      "_________________________________________________________________\n",
      "dropout (Dropout)            (None, 128)               0         \n",
      "_________________________________________________________________\n",
      "dense (Dense)                (None, 128)               16512     \n",
      "_________________________________________________________________\n",
      "batch_normalization_1 (Batch (None, 128)               512       \n",
      "_________________________________________________________________\n",
      "dropout_1 (Dropout)          (None, 128)               0         \n",
      "_________________________________________________________________\n",
      "dense_1 (Dense)              (None, 1)                 129       \n",
      "=================================================================\n",
      "Total params: 125,027,585\n",
      "Trainable params: 125,027,073\n",
      "Non-trainable params: 512\n",
      "_________________________________________________________________\n",
      "None\n"
     ]
    }
   ],
   "source": [
    "model.compile(\n",
    "    loss=tf.keras.losses.BinaryCrossentropy(from_logits=False),\n",
    "    optimizer='adam',\n",
    "    metrics=tf.metrics.BinaryAccuracy(),\n",
    ")\n",
    "\n",
    "print(model.summary())"
   ]
  },
  {
   "cell_type": "code",
   "execution_count": 26,
   "id": "ba4c86c2-6936-4e0b-8c33-73100367fca6",
   "metadata": {
    "tags": []
   },
   "outputs": [
    {
     "data": {
      "text/plain": [
       "array([0, 0, 0, ..., 1, 1, 0], dtype=int64)"
      ]
     },
     "execution_count": 26,
     "metadata": {},
     "output_type": "execute_result"
    }
   ],
   "source": [
    "train_labels"
   ]
  },
  {
   "cell_type": "code",
   "execution_count": 27,
   "id": "b81ba12c-c033-4a21-965c-2c8d28396800",
   "metadata": {},
   "outputs": [
    {
     "name": "stdout",
     "output_type": "stream",
     "text": [
      "Num GPUs Available:  1\n"
     ]
    }
   ],
   "source": [
    "print(\"Num GPUs Available: \", len(tf.config.list_physical_devices('GPU')))"
   ]
  },
  {
   "cell_type": "code",
   "execution_count": 28,
   "id": "026f6ed6-8272-4010-a030-0d8cacede322",
   "metadata": {
    "tags": []
   },
   "outputs": [
    {
     "name": "stdout",
     "output_type": "stream",
     "text": [
      "Epoch 1/100\n",
      "90/90 [==============================] - 6s 63ms/step - loss: 2.5459 - binary_accuracy: 0.7882 - val_loss: 1.0503 - val_binary_accuracy: 0.8535\n",
      "Epoch 2/100\n",
      "90/90 [==============================] - 5s 59ms/step - loss: 1.4357 - binary_accuracy: 0.8858 - val_loss: 0.5715 - val_binary_accuracy: 0.9340\n",
      "Epoch 3/100\n",
      "90/90 [==============================] - 6s 63ms/step - loss: 1.0464 - binary_accuracy: 0.9135 - val_loss: 0.5782 - val_binary_accuracy: 0.9521\n",
      "Epoch 4/100\n",
      "90/90 [==============================] - 6s 62ms/step - loss: 0.9731 - binary_accuracy: 0.9220 - val_loss: 0.5865 - val_binary_accuracy: 0.9563\n",
      "Epoch 5/100\n",
      "90/90 [==============================] - 6s 62ms/step - loss: 0.8285 - binary_accuracy: 0.9319 - val_loss: 0.5569 - val_binary_accuracy: 0.9576\n",
      "Epoch 6/100\n",
      "90/90 [==============================] - 5s 54ms/step - loss: 0.7841 - binary_accuracy: 0.9368 - val_loss: 0.5588 - val_binary_accuracy: 0.9576\n",
      "Epoch 7/100\n",
      "90/90 [==============================] - 5s 52ms/step - loss: 0.6834 - binary_accuracy: 0.9450 - val_loss: 0.5512 - val_binary_accuracy: 0.9597\n",
      "Epoch 8/100\n",
      "90/90 [==============================] - 5s 53ms/step - loss: 0.6921 - binary_accuracy: 0.9436 - val_loss: 0.5523 - val_binary_accuracy: 0.9604\n",
      "Epoch 9/100\n",
      "90/90 [==============================] - 5s 53ms/step - loss: 0.6546 - binary_accuracy: 0.9455 - val_loss: 0.5258 - val_binary_accuracy: 0.9549\n",
      "Epoch 10/100\n",
      "90/90 [==============================] - 5s 53ms/step - loss: 0.6608 - binary_accuracy: 0.9467 - val_loss: 0.5439 - val_binary_accuracy: 0.9583\n",
      "Epoch 11/100\n",
      "90/90 [==============================] - 5s 53ms/step - loss: 0.6788 - binary_accuracy: 0.9451 - val_loss: 0.5314 - val_binary_accuracy: 0.9597\n",
      "Epoch 12/100\n",
      "90/90 [==============================] - 5s 53ms/step - loss: 0.6285 - binary_accuracy: 0.9505 - val_loss: 0.5234 - val_binary_accuracy: 0.9611\n",
      "Epoch 13/100\n",
      "90/90 [==============================] - 5s 53ms/step - loss: 0.5172 - binary_accuracy: 0.9599 - val_loss: 0.5313 - val_binary_accuracy: 0.9611\n",
      "Epoch 14/100\n",
      "90/90 [==============================] - 5s 53ms/step - loss: 0.5357 - binary_accuracy: 0.9589 - val_loss: 0.5314 - val_binary_accuracy: 0.9611\n",
      "Epoch 15/100\n",
      "90/90 [==============================] - 5s 53ms/step - loss: 0.5779 - binary_accuracy: 0.9557 - val_loss: 0.4934 - val_binary_accuracy: 0.9625\n",
      "Epoch 16/100\n",
      "90/90 [==============================] - 5s 53ms/step - loss: 0.6043 - binary_accuracy: 0.9503 - val_loss: 0.4740 - val_binary_accuracy: 0.9632\n",
      "Epoch 17/100\n",
      "90/90 [==============================] - 5s 53ms/step - loss: 0.6133 - binary_accuracy: 0.9507 - val_loss: 0.4510 - val_binary_accuracy: 0.9625\n",
      "Epoch 18/100\n",
      "90/90 [==============================] - 5s 53ms/step - loss: 0.5353 - binary_accuracy: 0.9554 - val_loss: 0.4568 - val_binary_accuracy: 0.9646\n",
      "Epoch 19/100\n",
      "90/90 [==============================] - 5s 53ms/step - loss: 0.5172 - binary_accuracy: 0.9573 - val_loss: 0.4504 - val_binary_accuracy: 0.9660\n",
      "Epoch 20/100\n",
      "90/90 [==============================] - 5s 53ms/step - loss: 0.5482 - binary_accuracy: 0.9566 - val_loss: 0.4547 - val_binary_accuracy: 0.9653\n",
      "Epoch 21/100\n",
      "90/90 [==============================] - 5s 53ms/step - loss: 0.5021 - binary_accuracy: 0.9615 - val_loss: 0.4240 - val_binary_accuracy: 0.9681\n",
      "Epoch 22/100\n",
      "90/90 [==============================] - 5s 53ms/step - loss: 0.5280 - binary_accuracy: 0.9594 - val_loss: 0.4232 - val_binary_accuracy: 0.9694\n",
      "Epoch 23/100\n",
      "90/90 [==============================] - 5s 53ms/step - loss: 0.4345 - binary_accuracy: 0.9641 - val_loss: 0.3972 - val_binary_accuracy: 0.9701\n",
      "Epoch 24/100\n",
      "90/90 [==============================] - 5s 53ms/step - loss: 0.4540 - binary_accuracy: 0.9639 - val_loss: 0.3965 - val_binary_accuracy: 0.9701\n",
      "Epoch 25/100\n",
      "90/90 [==============================] - 5s 53ms/step - loss: 0.4422 - binary_accuracy: 0.9648 - val_loss: 0.3880 - val_binary_accuracy: 0.9688\n",
      "Epoch 26/100\n",
      "90/90 [==============================] - 5s 53ms/step - loss: 0.4140 - binary_accuracy: 0.9668 - val_loss: 0.4345 - val_binary_accuracy: 0.9681\n",
      "Epoch 27/100\n",
      "90/90 [==============================] - 5s 53ms/step - loss: 0.5110 - binary_accuracy: 0.9597 - val_loss: 0.4085 - val_binary_accuracy: 0.9681\n",
      "Epoch 28/100\n",
      "90/90 [==============================] - 5s 53ms/step - loss: 0.5191 - binary_accuracy: 0.9585 - val_loss: 0.4182 - val_binary_accuracy: 0.9667\n",
      "Epoch 29/100\n",
      "90/90 [==============================] - 5s 53ms/step - loss: 0.4457 - binary_accuracy: 0.9642 - val_loss: 0.3986 - val_binary_accuracy: 0.9674\n",
      "Epoch 30/100\n",
      "90/90 [==============================] - 5s 53ms/step - loss: 0.4283 - binary_accuracy: 0.9674 - val_loss: 0.3751 - val_binary_accuracy: 0.9660\n",
      "Epoch 31/100\n",
      "90/90 [==============================] - 5s 53ms/step - loss: 0.4343 - binary_accuracy: 0.9656 - val_loss: 0.4205 - val_binary_accuracy: 0.9708\n",
      "Epoch 32/100\n",
      "90/90 [==============================] - 5s 53ms/step - loss: 0.4562 - binary_accuracy: 0.9642 - val_loss: 0.4675 - val_binary_accuracy: 0.9632\n",
      "Epoch 33/100\n",
      "90/90 [==============================] - 5s 53ms/step - loss: 0.5296 - binary_accuracy: 0.9566 - val_loss: 0.4670 - val_binary_accuracy: 0.9646\n",
      "Epoch 34/100\n",
      "90/90 [==============================] - 5s 53ms/step - loss: 0.4884 - binary_accuracy: 0.9609 - val_loss: 0.4662 - val_binary_accuracy: 0.9653\n",
      "Epoch 35/100\n",
      "90/90 [==============================] - 5s 53ms/step - loss: 0.4392 - binary_accuracy: 0.9642 - val_loss: 0.4568 - val_binary_accuracy: 0.9667\n",
      "Epoch 36/100\n",
      "90/90 [==============================] - 5s 53ms/step - loss: 0.4638 - binary_accuracy: 0.9637 - val_loss: 0.4524 - val_binary_accuracy: 0.9681\n",
      "Epoch 37/100\n",
      "90/90 [==============================] - 5s 53ms/step - loss: 0.4122 - binary_accuracy: 0.9660 - val_loss: 0.4426 - val_binary_accuracy: 0.9688\n",
      "Epoch 38/100\n",
      "90/90 [==============================] - 5s 53ms/step - loss: 0.3726 - binary_accuracy: 0.9693 - val_loss: 0.4150 - val_binary_accuracy: 0.9701\n",
      "Epoch 39/100\n",
      "90/90 [==============================] - 5s 53ms/step - loss: 0.3494 - binary_accuracy: 0.9714 - val_loss: 0.4028 - val_binary_accuracy: 0.9715\n",
      "Epoch 40/100\n",
      "90/90 [==============================] - 5s 53ms/step - loss: 0.3511 - binary_accuracy: 0.9719 - val_loss: 0.4116 - val_binary_accuracy: 0.9688\n",
      "Epoch 41/100\n",
      "90/90 [==============================] - 5s 53ms/step - loss: 0.3814 - binary_accuracy: 0.9693 - val_loss: 0.4236 - val_binary_accuracy: 0.9688\n",
      "Epoch 42/100\n",
      "90/90 [==============================] - 5s 53ms/step - loss: 0.3485 - binary_accuracy: 0.9729 - val_loss: 0.4321 - val_binary_accuracy: 0.9694\n",
      "Epoch 43/100\n",
      "90/90 [==============================] - 5s 53ms/step - loss: 0.3506 - binary_accuracy: 0.9729 - val_loss: 0.4233 - val_binary_accuracy: 0.9694\n",
      "Epoch 44/100\n",
      "90/90 [==============================] - 5s 53ms/step - loss: 0.3526 - binary_accuracy: 0.9734 - val_loss: 0.4243 - val_binary_accuracy: 0.9694\n",
      "Epoch 45/100\n",
      "90/90 [==============================] - 5s 53ms/step - loss: 0.3425 - binary_accuracy: 0.9738 - val_loss: 0.4229 - val_binary_accuracy: 0.9688\n",
      "Epoch 46/100\n",
      "90/90 [==============================] - 5s 53ms/step - loss: 0.3362 - binary_accuracy: 0.9741 - val_loss: 0.4209 - val_binary_accuracy: 0.9708\n",
      "Epoch 47/100\n",
      "90/90 [==============================] - 5s 53ms/step - loss: 0.2635 - binary_accuracy: 0.9792 - val_loss: 0.4026 - val_binary_accuracy: 0.9694\n",
      "Epoch 48/100\n",
      "90/90 [==============================] - 5s 53ms/step - loss: 0.2855 - binary_accuracy: 0.9766 - val_loss: 0.3315 - val_binary_accuracy: 0.9681\n",
      "Epoch 49/100\n",
      "90/90 [==============================] - 5s 53ms/step - loss: 0.3638 - binary_accuracy: 0.9698 - val_loss: 0.3402 - val_binary_accuracy: 0.9729\n",
      "Epoch 50/100\n",
      "90/90 [==============================] - 5s 53ms/step - loss: 0.3793 - binary_accuracy: 0.9689 - val_loss: 0.3809 - val_binary_accuracy: 0.9715\n",
      "Epoch 51/100\n",
      "90/90 [==============================] - 5s 53ms/step - loss: 0.3481 - binary_accuracy: 0.9729 - val_loss: 0.3730 - val_binary_accuracy: 0.9708\n",
      "Epoch 52/100\n",
      "90/90 [==============================] - 5s 53ms/step - loss: 0.3346 - binary_accuracy: 0.9726 - val_loss: 0.4004 - val_binary_accuracy: 0.9708\n",
      "Epoch 53/100\n",
      "90/90 [==============================] - 5s 53ms/step - loss: 0.2717 - binary_accuracy: 0.9783 - val_loss: 0.3612 - val_binary_accuracy: 0.9715\n",
      "Epoch 54/100\n",
      "90/90 [==============================] - 5s 53ms/step - loss: 0.3384 - binary_accuracy: 0.9738 - val_loss: 0.3725 - val_binary_accuracy: 0.9722\n",
      "Epoch 55/100\n",
      "90/90 [==============================] - 5s 53ms/step - loss: 0.3076 - binary_accuracy: 0.9748 - val_loss: 0.3629 - val_binary_accuracy: 0.9729\n",
      "Epoch 56/100\n",
      "90/90 [==============================] - 5s 53ms/step - loss: 0.2883 - binary_accuracy: 0.9764 - val_loss: 0.3712 - val_binary_accuracy: 0.9722\n",
      "Epoch 57/100\n",
      "90/90 [==============================] - 5s 53ms/step - loss: 0.3290 - binary_accuracy: 0.9741 - val_loss: 0.3797 - val_binary_accuracy: 0.9715\n",
      "Epoch 58/100\n",
      "90/90 [==============================] - 5s 53ms/step - loss: 0.2307 - binary_accuracy: 0.9809 - val_loss: 0.3507 - val_binary_accuracy: 0.9722\n",
      "Epoch 59/100\n",
      "90/90 [==============================] - 5s 53ms/step - loss: 0.2388 - binary_accuracy: 0.9806 - val_loss: 0.3501 - val_binary_accuracy: 0.9729\n",
      "Epoch 60/100\n",
      "90/90 [==============================] - 5s 53ms/step - loss: 0.2412 - binary_accuracy: 0.9812 - val_loss: 0.3501 - val_binary_accuracy: 0.9729\n",
      "Epoch 61/100\n",
      "90/90 [==============================] - 5s 53ms/step - loss: 0.2903 - binary_accuracy: 0.9773 - val_loss: 0.3484 - val_binary_accuracy: 0.9736\n",
      "Epoch 62/100\n",
      "90/90 [==============================] - 5s 53ms/step - loss: 0.2560 - binary_accuracy: 0.9790 - val_loss: 0.3498 - val_binary_accuracy: 0.9729\n",
      "Epoch 63/100\n",
      "90/90 [==============================] - 5s 53ms/step - loss: 0.2538 - binary_accuracy: 0.9809 - val_loss: 0.3593 - val_binary_accuracy: 0.9736\n",
      "Epoch 64/100\n",
      "90/90 [==============================] - 5s 53ms/step - loss: 0.2451 - binary_accuracy: 0.9807 - val_loss: 0.3604 - val_binary_accuracy: 0.9729\n",
      "Epoch 65/100\n",
      "90/90 [==============================] - 5s 53ms/step - loss: 0.2327 - binary_accuracy: 0.9812 - val_loss: 0.3542 - val_binary_accuracy: 0.9729\n",
      "Epoch 66/100\n",
      "90/90 [==============================] - 5s 53ms/step - loss: 0.2080 - binary_accuracy: 0.9839 - val_loss: 0.3495 - val_binary_accuracy: 0.9729\n",
      "Epoch 67/100\n",
      "90/90 [==============================] - 5s 53ms/step - loss: 0.2720 - binary_accuracy: 0.9773 - val_loss: 0.4175 - val_binary_accuracy: 0.9660\n",
      "Epoch 68/100\n",
      "90/90 [==============================] - 5s 54ms/step - loss: 0.2667 - binary_accuracy: 0.9783 - val_loss: 0.3670 - val_binary_accuracy: 0.9729\n",
      "Epoch 69/100\n",
      "90/90 [==============================] - 5s 53ms/step - loss: 0.2181 - binary_accuracy: 0.9830 - val_loss: 0.3741 - val_binary_accuracy: 0.9701\n",
      "Epoch 70/100\n",
      "90/90 [==============================] - 5s 53ms/step - loss: 0.2173 - binary_accuracy: 0.9828 - val_loss: 0.3492 - val_binary_accuracy: 0.9743\n",
      "Epoch 71/100\n",
      "90/90 [==============================] - 5s 53ms/step - loss: 0.2551 - binary_accuracy: 0.9793 - val_loss: 0.3672 - val_binary_accuracy: 0.9736\n",
      "Epoch 72/100\n",
      "90/90 [==============================] - 5s 53ms/step - loss: 0.2233 - binary_accuracy: 0.9816 - val_loss: 0.3679 - val_binary_accuracy: 0.9729\n",
      "Epoch 73/100\n",
      "90/90 [==============================] - 5s 53ms/step - loss: 0.2080 - binary_accuracy: 0.9821 - val_loss: 0.3585 - val_binary_accuracy: 0.9715\n",
      "Epoch 74/100\n",
      "90/90 [==============================] - 5s 53ms/step - loss: 0.2331 - binary_accuracy: 0.9807 - val_loss: 0.3688 - val_binary_accuracy: 0.9736\n",
      "Epoch 75/100\n",
      "90/90 [==============================] - 5s 53ms/step - loss: 0.2193 - binary_accuracy: 0.9812 - val_loss: 0.3492 - val_binary_accuracy: 0.9743\n",
      "Epoch 76/100\n",
      "90/90 [==============================] - 5s 53ms/step - loss: 0.1783 - binary_accuracy: 0.9844 - val_loss: 0.3466 - val_binary_accuracy: 0.9750\n",
      "Epoch 77/100\n",
      "90/90 [==============================] - 5s 55ms/step - loss: 0.2483 - binary_accuracy: 0.9792 - val_loss: 0.3253 - val_binary_accuracy: 0.9722\n",
      "Epoch 78/100\n",
      "90/90 [==============================] - 5s 55ms/step - loss: 0.1997 - binary_accuracy: 0.9839 - val_loss: 0.3463 - val_binary_accuracy: 0.9757\n",
      "Epoch 79/100\n",
      "90/90 [==============================] - 5s 56ms/step - loss: 0.2047 - binary_accuracy: 0.9830 - val_loss: 0.3374 - val_binary_accuracy: 0.9750\n",
      "Epoch 80/100\n",
      "90/90 [==============================] - 5s 56ms/step - loss: 0.1740 - binary_accuracy: 0.9856 - val_loss: 0.3365 - val_binary_accuracy: 0.9743\n",
      "Epoch 81/100\n",
      "90/90 [==============================] - 5s 58ms/step - loss: 0.1850 - binary_accuracy: 0.9844 - val_loss: 0.3351 - val_binary_accuracy: 0.9750\n",
      "Epoch 82/100\n",
      "90/90 [==============================] - 5s 54ms/step - loss: 0.1877 - binary_accuracy: 0.9845 - val_loss: 0.3353 - val_binary_accuracy: 0.9750\n",
      "Epoch 83/100\n",
      "90/90 [==============================] - 5s 56ms/step - loss: 0.1996 - binary_accuracy: 0.9840 - val_loss: 0.3402 - val_binary_accuracy: 0.9736\n",
      "Epoch 84/100\n",
      "90/90 [==============================] - 5s 54ms/step - loss: 0.2109 - binary_accuracy: 0.9833 - val_loss: 0.3375 - val_binary_accuracy: 0.9729\n",
      "Epoch 85/100\n",
      "90/90 [==============================] - 5s 54ms/step - loss: 0.1502 - binary_accuracy: 0.9878 - val_loss: 0.3358 - val_binary_accuracy: 0.9743\n",
      "Epoch 86/100\n",
      "90/90 [==============================] - 5s 53ms/step - loss: 0.1675 - binary_accuracy: 0.9859 - val_loss: 0.3172 - val_binary_accuracy: 0.9764\n",
      "Epoch 87/100\n",
      "90/90 [==============================] - 5s 53ms/step - loss: 0.1481 - binary_accuracy: 0.9875 - val_loss: 0.3355 - val_binary_accuracy: 0.9771\n",
      "Epoch 88/100\n",
      "90/90 [==============================] - 5s 53ms/step - loss: 0.1577 - binary_accuracy: 0.9873 - val_loss: 0.3149 - val_binary_accuracy: 0.9778\n",
      "Epoch 89/100\n",
      "90/90 [==============================] - 5s 55ms/step - loss: 0.1684 - binary_accuracy: 0.9866 - val_loss: 0.3133 - val_binary_accuracy: 0.9778\n",
      "Epoch 90/100\n",
      "90/90 [==============================] - 5s 59ms/step - loss: 0.1719 - binary_accuracy: 0.9872 - val_loss: 0.2977 - val_binary_accuracy: 0.9778\n",
      "Epoch 91/100\n",
      "90/90 [==============================] - 5s 55ms/step - loss: 0.1363 - binary_accuracy: 0.9889 - val_loss: 0.3060 - val_binary_accuracy: 0.9778\n",
      "Epoch 92/100\n",
      "90/90 [==============================] - 5s 55ms/step - loss: 0.1594 - binary_accuracy: 0.9875 - val_loss: 0.2767 - val_binary_accuracy: 0.9764\n",
      "Epoch 93/100\n",
      "90/90 [==============================] - 5s 53ms/step - loss: 0.1706 - binary_accuracy: 0.9842 - val_loss: 0.2752 - val_binary_accuracy: 0.9778\n",
      "Epoch 94/100\n",
      "90/90 [==============================] - 5s 53ms/step - loss: 0.1654 - binary_accuracy: 0.9861 - val_loss: 0.2687 - val_binary_accuracy: 0.9764\n",
      "Epoch 95/100\n",
      "90/90 [==============================] - 5s 53ms/step - loss: 0.1614 - binary_accuracy: 0.9873 - val_loss: 0.2856 - val_binary_accuracy: 0.9764\n",
      "Epoch 96/100\n",
      "90/90 [==============================] - 5s 53ms/step - loss: 0.1093 - binary_accuracy: 0.9906 - val_loss: 0.2754 - val_binary_accuracy: 0.9778\n",
      "Epoch 97/100\n",
      "90/90 [==============================] - 5s 53ms/step - loss: 0.1540 - binary_accuracy: 0.9866 - val_loss: 0.2481 - val_binary_accuracy: 0.9771\n",
      "Epoch 98/100\n",
      "90/90 [==============================] - 5s 53ms/step - loss: 0.1380 - binary_accuracy: 0.9885 - val_loss: 0.2697 - val_binary_accuracy: 0.9771\n",
      "Epoch 99/100\n",
      "90/90 [==============================] - 5s 53ms/step - loss: 0.1377 - binary_accuracy: 0.9875 - val_loss: 0.2943 - val_binary_accuracy: 0.9785\n",
      "Epoch 100/100\n",
      "90/90 [==============================] - 5s 53ms/step - loss: 0.1560 - binary_accuracy: 0.9887 - val_loss: 0.3028 - val_binary_accuracy: 0.9778\n"
     ]
    }
   ],
   "source": [
    "num_epochs = 100\n",
    "batch_size = 64\n",
    "history = model.fit(\n",
    "    train_docs,\n",
    "    train_labels,\n",
    "    epochs=num_epochs,\n",
    "    batch_size=batch_size,\n",
    "    validation_data=(test_docs, test_labels),\n",
    ")"
   ]
  },
  {
   "cell_type": "code",
   "execution_count": 29,
   "id": "2db411a1-3b39-4dd5-956c-eaa762ea3fa7",
   "metadata": {
    "colab": {},
    "colab_type": "code",
    "id": "VcvSXvhp-llb"
   },
   "outputs": [
    {
     "data": {
      "text/plain": [
       "dict_keys(['loss', 'binary_accuracy', 'val_loss', 'val_binary_accuracy'])"
      ]
     },
     "execution_count": 29,
     "metadata": {},
     "output_type": "execute_result"
    }
   ],
   "source": [
    "history_dict = history.history\n",
    "history_dict.keys()"
   ]
  },
  {
   "cell_type": "code",
   "execution_count": 30,
   "id": "c2cc13d7-993b-4f6b-879e-d58dededba60",
   "metadata": {
    "colab": {},
    "colab_type": "code",
    "id": "nGoYf2Js-lle"
   },
   "outputs": [
    {
     "data": {
      "image/png": "[encoded data removed]",
      "text/plain": [
       "<Figure size 432x288 with 1 Axes>"
      ]
     },
     "metadata": {
      "needs_background": "light"
     },
     "output_type": "display_data"
    }
   ],
   "source": [
    "import matplotlib.pyplot as plt\n",
    "\n",
    "acc = history_dict['binary_accuracy']\n",
    "val_acc = history_dict['val_binary_accuracy']\n",
    "loss = history_dict['loss']\n",
    "val_loss = history_dict['val_loss']\n",
    "\n",
    "epochs = range(1, len(acc) + 1)\n",
    "\n",
    "# \"bo\" is for \"blue dot\"\n",
    "plt.plot(epochs, loss, 'bo', label='Training loss')\n",
    "# b is for \"solid blue line\"\n",
    "plt.plot(epochs, val_loss, 'b', label='Validation loss')\n",
    "plt.title('Training and validation loss')\n",
    "plt.xlabel('Epochs')\n",
    "plt.ylabel('Loss')\n",
    "plt.legend()\n",
    "\n",
    "plt.show()"
   ]
  },
  {
   "cell_type": "code",
   "execution_count": 31,
   "id": "e7730a3b-664d-4d06-9f2c-c227723033f1",
   "metadata": {
    "colab": {},
    "colab_type": "code",
    "id": "6hXx-xOv-llh"
   },
   "outputs": [
    {
     "data": {
      "image/png": "[encoded data removed]",
      "text/plain": [
       "<Figure size 432x288 with 1 Axes>"
      ]
     },
     "metadata": {
      "needs_background": "light"
     },
     "output_type": "display_data"
    }
   ],
   "source": [
    "plt.clf()  # clear figure\n",
    "\n",
    "plt.plot(epochs, acc, 'bo', label='Training acc')\n",
    "plt.plot(epochs, val_acc, 'b', label='Validation acc')\n",
    "plt.title('Training and validation accuracy')\n",
    "plt.xlabel('Epochs')\n",
    "plt.ylabel('Accuracy')\n",
    "plt.legend()\n",
    "\n",
    "plt.show()"
   ]
  },
  {
   "cell_type": "code",
   "execution_count": 34,
   "id": "bb21098f-8dcc-4a39-84fa-0aa3611a4920",
   "metadata": {},
   "outputs": [],
   "source": [
    "import seaborn as sn"
   ]
  },
  {
   "cell_type": "code",
   "execution_count": 35,
   "id": "a5fb8cda-9c74-43e5-9b87-f154af881a03",
   "metadata": {
    "tags": []
   },
   "outputs": [],
   "source": [
    "confusion_matrix = tf.math.confusion_matrix(np.where(model.predict(test_docs)>=0,1,0), test_labels)\n",
    "\n",
    "df_cm = pd.DataFrame(confusion_matrix.numpy(), index = [\"Fake News\",\"True News\"],\n",
    "                  columns = [\"Fake News\",\"True News\"])\n",
    "\n",
    "df_cm_percentual = pd.DataFrame(confusion_matrix.numpy()/confusion_matrix.numpy().sum(axis=1)[:,None], index = [\"Fake News\",\"True News\"],\n",
    "                  columns = [\"Fake News\",\"True News\"])"
   ]
  },
  {
   "cell_type": "code",
   "execution_count": 36,
   "id": "26549311-c0ee-479e-a0e6-a258521f9df2",
   "metadata": {
    "tags": []
   },
   "outputs": [
    {
     "data": {
      "text/plain": [
       "<AxesSubplot:>"
      ]
     },
     "execution_count": 36,
     "metadata": {},
     "output_type": "execute_result"
    },
    {
     "data": {
      "image/png": "[encoded data removed]",
      "text/plain": [
       "<Figure size 432x360 with 2 Axes>"
      ]
     },
     "metadata": {
      "needs_background": "light"
     },
     "output_type": "display_data"
    },
    {
     "data": {
      "image/png": "[encoded data removed]",
      "text/plain": [
       "<Figure size 432x360 with 2 Axes>"
      ]
     },
     "metadata": {
      "needs_background": "light"
     },
     "output_type": "display_data"
    }
   ],
   "source": [
    "plt.figure(figsize = (6,5))\n",
    "sn.heatmap(df_cm, annot=True,fmt='g',cmap = sn.color_palette(\"mako\", as_cmap=True))\n",
    "plt.figure(figsize = (6,5))\n",
    "sn.heatmap(df_cm_percentual, annot=True,fmt='0.2g',cmap = sn.color_palette(\"mako\", as_cmap=True))\n"
   ]
  }
 ],
 "metadata": {
  "kernelspec": {
   "display_name": "Python 3",
   "language": "python",
   "name": "python3"
  },
  "language_info": {
   "codemirror_mode": {
    "name": "ipython",
    "version": 3
   },
   "file_extension": ".py",
   "mimetype": "text/x-python",
   "name": "python",
   "nbconvert_exporter": "python",
   "pygments_lexer": "ipython3",
   "version": "3.9.5"
  }
 },
 "nbformat": 4,
 "nbformat_minor": 5
}
