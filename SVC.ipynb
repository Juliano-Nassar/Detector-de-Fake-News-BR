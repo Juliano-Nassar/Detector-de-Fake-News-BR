{
 "cells": [
  {
   "cell_type": "markdown",
   "id": "36252b33-856d-4efc-9f37-c8b4f2da15e0",
   "metadata": {},
   "source": [
    "## Projeto 5"
   ]
  },
  {
   "cell_type": "code",
   "execution_count": 1,
   "id": "48943161-3e56-4008-b713-1557a9c5ece4",
   "metadata": {},
   "outputs": [],
   "source": [
    "from pathlib import Path\n",
    "import pandas as pd"
   ]
  },
  {
   "cell_type": "code",
   "execution_count": 2,
   "id": "b769d7c0-ffb4-46ad-82e3-fc66e732fe08",
   "metadata": {},
   "outputs": [
    {
     "name": "stdout",
     "output_type": "stream",
     "text": [
      "C:\\Users\\GabrielLigeiro\\Documents\\PLN\\Projeto 5\n"
     ]
    }
   ],
   "source": [
    "print(Path.cwd())"
   ]
  },
  {
   "cell_type": "code",
   "execution_count": 3,
   "id": "00615191-21c8-4ff0-87b5-96444c599c7d",
   "metadata": {},
   "outputs": [
    {
     "name": "stdout",
     "output_type": "stream",
     "text": [
      "<generator object Path.glob at 0x000002717BBF2A50>\n"
     ]
    }
   ],
   "source": [
    "home_PATH = Path.cwd()\n",
    "fake_PATH = Path(home_PATH,\"dados\",\"Fake.br-Corpus-master\",\"full_texts\",\"fake\").glob('**/*')\n",
    "true_PATH = Path(home_PATH,\"dados\",\"Fake.br-Corpus-master\",\"full_texts\",\"true\").glob('**/*')\n",
    "print(fake_PATH)"
   ]
  },
  {
   "cell_type": "code",
   "execution_count": 4,
   "id": "8c97c2e6-9883-4d92-8731-725cd11bf709",
   "metadata": {},
   "outputs": [],
   "source": [
    "# Fake \n",
    "fake_files_txt = [x for x in fake_PATH if x.is_file()]\n",
    "fake = []\n",
    "#Real\n",
    "true_files_txt = [x for x in true_PATH if x.is_file()]\n",
    "true = []\n"
   ]
  },
  {
   "cell_type": "code",
   "execution_count": 5,
   "id": "dd7c8758-3d1e-4281-93c4-a51f9d4a6031",
   "metadata": {},
   "outputs": [],
   "source": [
    "def replace_all(text, dic):\n",
    "    for i, j in dic.iteritems():\n",
    "        text = text.replace(i, j)\n",
    "    return text\n",
    "#dic = {\"\\n\":\"\",\"\\x\":\"\"}"
   ]
  },
  {
   "cell_type": "code",
   "execution_count": 6,
   "id": "8762e576-ca3c-4bef-ae18-de7f8f069af6",
   "metadata": {},
   "outputs": [],
   "source": [
    "def create_true_fake_list(fake_true_files_txt):\n",
    "    fake_true_list = []\n",
    "    for file in fake_true_files_txt:\n",
    "        with open(file, 'r',encoding=\"utf8\") as f:\n",
    "            fake_true_list.append(f.read())\n",
    "    return fake_true_list"
   ]
  },
  {
   "cell_type": "code",
   "execution_count": 7,
   "id": "3c1a17ec-f1f9-4d49-8b4f-e2e80f0473fa",
   "metadata": {},
   "outputs": [],
   "source": [
    "fake = create_true_fake_list(fake_files_txt)\n",
    "true = create_true_fake_list(true_files_txt)"
   ]
  },
  {
   "cell_type": "code",
   "execution_count": 8,
   "id": "9884c309-c402-4ce1-9809-f7cc0e673272",
   "metadata": {},
   "outputs": [
    {
     "data": {
      "text/plain": [
       "'Kátia Abreu diz que vai colocar sua expulsão em uma moldura, mas não para de reclamar.\\t\\n\\nA senadora Kátia Abreu (sem partido-TO) disse que sua expulsão do PMDB foi resultado de uma ação da cúpula atual da legenda que, segundo ela, é oportunista.\\n\\n“Amanhã eu vou botar numa moldura dourada a minha expulsão, porque das mãos de onde veio, é um atestado de boa conduta para o meu currículo. Essas pessoas que me expulsaram não servem ao país. Eles se servem do país em seus benefícios próprios”, disse Kátia Abreu.\\n\\nUé, mas se a expulsão é algo tão bom para seu currículo, por que tanta choradeira, Kátia?\\n\\nSabemos o motivo. Provavelmente Kátia não tem valor para o PT, partido que já deveria tê-la absorvido. Ao que parece o PT gostava de Kátia somente se ela ficasse entrincheirada dentro do PMDB.\\n\\nOu seja, isso é se rebaixar demais. Resta a Kátia ficar chorando as pitangas por todos os cantos.\\n\\nEm tempo: até o momento o PT não cadastrou Kátia Abreu em suas fileiras. Que situação patética para a ex-ministra da Agricultura de Dilma.'"
      ]
     },
     "execution_count": 8,
     "metadata": {},
     "output_type": "execute_result"
    }
   ],
   "source": [
    "fake[0]"
   ]
  },
  {
   "cell_type": "code",
   "execution_count": 9,
   "id": "7a0f43e4-cc1d-4261-bb01-cc97dba13673",
   "metadata": {},
   "outputs": [
    {
     "data": {
      "text/plain": [
       "'\\ufeffO Podemos decidiu  expulsar o deputado federal Carlos Gaguim do partido após a Polícia Federal fazer buscas a apreensões no gabinete dele na Câmara. Com isso, a legenda abre espaço para receber a senadora expulsa pelo PMDB, Katia Abreu. Por meio de nota, a legenda informou que o afastamento do parlamentar já era algo acordado entre os filiados da sigla.  “Ainda que o parlamentar tenha comunicado a conclusão de sua desfiliação para esta semana, diante dos fatos noticiados hoje, a Executiva Nacional do Podemos solicita o imediato cancelamento de sua filiação dos quadros do partido”.\\n\\nO partido, que no passado chegou a cogitar lançar o parlamentar como candidato ao Senado, diz que “apoia a investigação com a ampla apuração dos eventuais crimes cometidos e a consequente responsabilização dos envolvidos, para que todos sejam punidos com o máximo rigor da Lei, independentemente de posição ou cargo ocupado”. '"
      ]
     },
     "execution_count": 9,
     "metadata": {},
     "output_type": "execute_result"
    }
   ],
   "source": [
    "true[0]"
   ]
  },
  {
   "cell_type": "markdown",
   "id": "96da0353-75b5-4b93-a533-c681c11e7802",
   "metadata": {},
   "source": [
    "### Pre Processing"
   ]
  },
  {
   "cell_type": "code",
   "execution_count": 10,
   "id": "1dd2d705-1a18-48b9-b269-82d6116e4988",
   "metadata": {},
   "outputs": [],
   "source": [
    "from nltk.tokenize import TweetTokenizer\n",
    "\n",
    "tknzr = TweetTokenizer()\n",
    "fake_proc = [tknzr.tokenize(x) for x in fake]\n",
    "true_proc = [tknzr.tokenize(x) for x in true]"
   ]
  },
  {
   "cell_type": "code",
   "execution_count": 11,
   "id": "caa243c5-a94d-4534-b503-f30e53433587",
   "metadata": {},
   "outputs": [],
   "source": [
    "fake_result = [1]*len(fake)\n",
    "fake_result = [0]*len(true)\n",
    "\n",
    "data_proc = fake_proc + true_proc\n",
    "data_result = fake_result + fake_result"
   ]
  },
  {
   "cell_type": "code",
   "execution_count": 12,
   "id": "d8e23b55-7c6b-49ea-b7f5-341584b65539",
   "metadata": {},
   "outputs": [],
   "source": [
    "#\" \".join(true_proc[3])"
   ]
  },
  {
   "cell_type": "markdown",
   "id": "bcc32396-501a-4791-ad7c-83d618d143a7",
   "metadata": {},
   "source": [
    "### Pre-Processed by Fake.Br"
   ]
  },
  {
   "cell_type": "code",
   "execution_count": 13,
   "id": "eab6d4e2-ed25-4d17-bfcf-8c4d2c0005a9",
   "metadata": {},
   "outputs": [],
   "source": [
    "import pandas as pd\n",
    "import numpy as np"
   ]
  },
  {
   "cell_type": "code",
   "execution_count": 14,
   "id": "e9192eea-81e1-4a8c-ba3c-3d9b086b6789",
   "metadata": {},
   "outputs": [],
   "source": [
    "preprocessed_PATH = Path(home_PATH,\"dados\",\"Fake.br-Corpus-master\",\"preprocessed\").glob('**/*')\n",
    "preprocessd_file = [x for x in preprocessed_PATH if x.is_file()]"
   ]
  },
  {
   "cell_type": "markdown",
   "id": "a51428bf-b21c-46bc-a2b1-2d3a57238ea9",
   "metadata": {},
   "source": [
    "#### Bag of Words"
   ]
  },
  {
   "cell_type": "code",
   "execution_count": 15,
   "id": "3325dc6c-35b3-4f24-b434-0b4d37ff196f",
   "metadata": {},
   "outputs": [],
   "source": [
    "df = pd.read_csv(preprocessd_file[0]).drop(columns=['index'])"
   ]
  },
  {
   "cell_type": "code",
   "execution_count": 16,
   "id": "93cd4be2-46c6-4a6f-82e1-4808cd955fec",
   "metadata": {},
   "outputs": [
    {
     "data": {
      "text/html": [
       "<div>\n",
       "<style scoped>\n",
       "    .dataframe tbody tr th:only-of-type {\n",
       "        vertical-align: middle;\n",
       "    }\n",
       "\n",
       "    .dataframe tbody tr th {\n",
       "        vertical-align: top;\n",
       "    }\n",
       "\n",
       "    .dataframe thead th {\n",
       "        text-align: right;\n",
       "    }\n",
       "</style>\n",
       "<table border=\"1\" class=\"dataframe\">\n",
       "  <thead>\n",
       "    <tr style=\"text-align: right;\">\n",
       "      <th></th>\n",
       "      <th>label</th>\n",
       "      <th>preprocessed_news</th>\n",
       "    </tr>\n",
       "  </thead>\n",
       "  <tbody>\n",
       "    <tr>\n",
       "      <th>0</th>\n",
       "      <td>fake</td>\n",
       "      <td>katia abreu diz vai colocar expulsao moldura n...</td>\n",
       "    </tr>\n",
       "    <tr>\n",
       "      <th>1</th>\n",
       "      <td>fake</td>\n",
       "      <td>ray peita bolsonaro conservador fake entrevist...</td>\n",
       "    </tr>\n",
       "    <tr>\n",
       "      <th>2</th>\n",
       "      <td>fake</td>\n",
       "      <td>reinaldo azevedo desmascarado policia federal ...</td>\n",
       "    </tr>\n",
       "    <tr>\n",
       "      <th>3</th>\n",
       "      <td>fake</td>\n",
       "      <td>relatorio assustador bndes mostra dinheiro pub...</td>\n",
       "    </tr>\n",
       "    <tr>\n",
       "      <th>4</th>\n",
       "      <td>fake</td>\n",
       "      <td>radialista americano fala sobre pt vendem ilus...</td>\n",
       "    </tr>\n",
       "  </tbody>\n",
       "</table>\n",
       "</div>"
      ],
      "text/plain": [
       "  label                                  preprocessed_news\n",
       "0  fake  katia abreu diz vai colocar expulsao moldura n...\n",
       "1  fake  ray peita bolsonaro conservador fake entrevist...\n",
       "2  fake  reinaldo azevedo desmascarado policia federal ...\n",
       "3  fake  relatorio assustador bndes mostra dinheiro pub...\n",
       "4  fake  radialista americano fala sobre pt vendem ilus..."
      ]
     },
     "execution_count": 16,
     "metadata": {},
     "output_type": "execute_result"
    }
   ],
   "source": [
    "df.head()"
   ]
  },
  {
   "cell_type": "code",
   "execution_count": 17,
   "id": "6ed94328-c76c-4fce-baed-514e56666b25",
   "metadata": {},
   "outputs": [],
   "source": [
    "from nltk.tokenize import TweetTokenizer\n",
    "tknzr = TweetTokenizer()\n",
    "\n",
    "corpus = list(df['preprocessed_news'])\n",
    "\n",
    "wordfreq = {}\n",
    "for doc in corpus:\n",
    "    #print(sentence)\n",
    "    tokens = tknzr.tokenize(doc)\n",
    "    #print(tokens)\n",
    "    for token in tokens:\n",
    "        if token not in wordfreq.keys():\n",
    "            wordfreq[token] = 1\n",
    "        else:\n",
    "            wordfreq[token] += 1"
   ]
  },
  {
   "cell_type": "code",
   "execution_count": 18,
   "id": "96f1f71e-98a7-4310-9872-fb9ff4e7874a",
   "metadata": {},
   "outputs": [
    {
     "data": {
      "text/plain": [
       "79564"
      ]
     },
     "execution_count": 18,
     "metadata": {},
     "output_type": "execute_result"
    }
   ],
   "source": [
    "len(wordfreq.keys())"
   ]
  },
  {
   "cell_type": "code",
   "execution_count": 19,
   "id": "c2e18a27-eed8-41cd-b5e2-72cd441177ff",
   "metadata": {},
   "outputs": [],
   "source": [
    "#get the most frequent\n",
    "import heapq\n",
    "most_freq = heapq.nlargest(2000, wordfreq, key=wordfreq.get)"
   ]
  },
  {
   "cell_type": "code",
   "execution_count": 20,
   "id": "43b34c91-8cd0-443c-80ba-7896ec4f5639",
   "metadata": {},
   "outputs": [
    {
     "name": "stdout",
     "output_type": "stream",
     "text": [
      "Wall time: 40.9 s\n"
     ]
    }
   ],
   "source": [
    "%%time\n",
    "doc_vectors = []\n",
    "for doc in corpus:\n",
    "    doc_tokens = tknzr.tokenize(doc)\n",
    "    doc_vec = []\n",
    "    for token in most_freq:\n",
    "        if token in doc_tokens:\n",
    "            doc_vec.append(1)\n",
    "        else:\n",
    "            doc_vec.append(0)\n",
    "    doc_vectors.append(doc_vec)"
   ]
  },
  {
   "cell_type": "code",
   "execution_count": 21,
   "id": "bb73e421-00d6-4d0f-bd59-edbc83d1da29",
   "metadata": {},
   "outputs": [
    {
     "data": {
      "text/plain": [
       "(7200, 2000)"
      ]
     },
     "execution_count": 21,
     "metadata": {},
     "output_type": "execute_result"
    }
   ],
   "source": [
    "doc_vectors = np.asarray(doc_vectors)\n",
    "\n",
    "doc_vectors.shape"
   ]
  },
  {
   "cell_type": "code",
   "execution_count": 22,
   "id": "5c3c340c-a5e4-4f01-80a0-1103aeecd1af",
   "metadata": {},
   "outputs": [],
   "source": [
    "X = doc_vectors\n",
    "y = df['label']"
   ]
  },
  {
   "cell_type": "code",
   "execution_count": 23,
   "id": "06266985-dc11-4155-80b1-74c5c835df65",
   "metadata": {},
   "outputs": [
    {
     "name": "stdout",
     "output_type": "stream",
     "text": [
      "Acurácia: 94.86111111111111%\n"
     ]
    }
   ],
   "source": [
    "from sklearn.model_selection import train_test_split\n",
    "\n",
    "X_train, X_test, y_train, y_test = train_test_split(X, y, test_size=0.2, random_state=42)\n",
    "\n",
    "from sklearn.svm import SVC,LinearSVC\n",
    "\n",
    "#classifier = SVC(gamma='auto')\n",
    "classifier = LinearSVC()\n",
    "classifier.fit(X_train,y_train)\n",
    "\n",
    "predicted = classifier.predict(X_test)\n",
    "\n",
    "from sklearn.metrics import accuracy_score, confusion_matrix\n",
    "\n",
    "acc = accuracy_score(y_test, predicted)\n",
    "print(f\"Acurácia: {acc*100}%\")"
   ]
  },
  {
   "cell_type": "code",
   "execution_count": 24,
   "id": "abbe7a17-f8b5-4623-91e9-71c68a7e64ee",
   "metadata": {
    "tags": []
   },
   "outputs": [
    {
     "name": "stdout",
     "output_type": "stream",
     "text": [
      "Confusion matrix, without normalization\n",
      "[[683  35]\n",
      " [ 39 683]]\n",
      "Normalized confusion matrix\n",
      "[[0.95125348 0.04874652]\n",
      " [0.05401662 0.94598338]]\n"
     ]
    },
    {
     "data": {
      "image/png": "[encoded data removed]",
      "text/plain": [
       "<Figure size 432x288 with 2 Axes>"
      ]
     },
     "metadata": {
      "needs_background": "light"
     },
     "output_type": "display_data"
    },
    {
     "data": {
      "image/png": "[encoded data removed]",
      "text/plain": [
       "<Figure size 432x288 with 2 Axes>"
      ]
     },
     "metadata": {
      "needs_background": "light"
     },
     "output_type": "display_data"
    }
   ],
   "source": [
    "from sklearn.metrics import plot_confusion_matrix\n",
    "import matplotlib.pyplot as plt\n",
    "class_names =['Fake News', \"True News\"]\n",
    "# Plot non-normalized confusion matrix\n",
    "titles_options = [(\"Confusion matrix, without normalization\", None),\n",
    "                  (\"Normalized confusion matrix\", 'true')]\n",
    "for title, normalize in titles_options:\n",
    "    disp = plot_confusion_matrix(classifier, X_test, y_test,\n",
    "                                 display_labels=class_names,\n",
    "                                 cmap=plt.cm.Blues,\n",
    "                                 normalize=normalize)\n",
    "    disp.ax_.set_title(title)\n",
    "\n",
    "    print(title)\n",
    "    print(disp.confusion_matrix)\n",
    "\n",
    "plt.show()"
   ]
  },
  {
   "cell_type": "code",
   "execution_count": null,
   "id": "e06445ef-4ef8-4907-bf73-823400242c9a",
   "metadata": {},
   "outputs": [],
   "source": []
  }
 ],
 "metadata": {
  "kernelspec": {
   "display_name": "Python 3",
   "language": "python",
   "name": "python3"
  },
  "language_info": {
   "codemirror_mode": {
    "name": "ipython",
    "version": 3
   },
   "file_extension": ".py",
   "mimetype": "text/x-python",
   "name": "python",
   "nbconvert_exporter": "python",
   "pygments_lexer": "ipython3",
   "version": "3.9.5"
  }
 },
 "nbformat": 4,
 "nbformat_minor": 5
}
