{
 "cells": [
  {
   "cell_type": "code",
   "execution_count": 61,
   "metadata": {},
   "outputs": [],
   "source": [
    "import random\n",
    "from copy import copy"
   ]
  },
  {
   "cell_type": "code",
   "execution_count": 1,
   "metadata": {},
   "outputs": [],
   "source": [
    "sample_text = '''katia abreu diz vai colocar expulsao moldura nao reclamar senadora katia abreu disse expulsao pmdb resultado acao cupula atual legenda segundo oportunista amanha vou botar moldura dourada expulsao porque maos onde veio atestado boa conduta curriculo pessoas expulsaram nao servem pais servem pais beneficios proprios disse katia abreu ue expulsao algo tao bom curriculo tanta choradeira katia sabemos motivo provavelmente katia nao valor pt partido ja deveria absorvido parece pt gostava katia somente ficasse entrincheirada dentro pmdb rebaixar demais resta katia ficar chorando pitangas todos cantos tempo ate momento pt nao cadastrou katia abreu fileiras situacao patetica agricultura dilma'''"
   ]
  },
  {
   "cell_type": "code",
   "execution_count": 33,
   "metadata": {},
   "outputs": [
    {
     "name": "stdout",
     "output_type": "stream",
     "text": [
      "katia abreu diz vai colocar expulsao moldura nao reclamar senadora katia abreu disse expulsao pmdb resultado acao cupula atual legenda segundo oportunista amanha vou botar moldura dourada expulsao porque maos onde veio atestado boa conduta curriculo pessoas expulsaram nao servem pais servem pais beneficios proprios disse katia abreu ue expulsao algo tao bom curriculo tanta choradeira katia sabemos motivo provavelmente katia nao valor pt partido ja deveria absorvido parece pt gostava katia somente ficasse entrincheirada dentro pmdb rebaixar demais resta katia ficar chorando pitangas todos cantos tempo ate momento pt nao cadastrou katia abreu fileiras situacao patetica agricultura dilma\n"
     ]
    }
   ],
   "source": [
    "print(sample_text)"
   ]
  },
  {
   "cell_type": "markdown",
   "metadata": {},
   "source": [
    "## Remove"
   ]
  },
  {
   "cell_type": "code",
   "execution_count": 163,
   "metadata": {},
   "outputs": [],
   "source": [
    "def aug_remove_words(text,mapping = {},remove_pct = 0.3):\n",
    "    \n",
    "    text_splitted = text.split(' ')\n",
    "    total_remove = int(len(text_splitted)*remove_pct)\n",
    "\n",
    "    for i in range(total_remove):\n",
    "        remove_index = random.randint(0,len(text_splitted)-1)\n",
    "        del text_splitted[remove_index]\n",
    "        \n",
    "    return ' '.join(text_splitted)"
   ]
  },
  {
   "cell_type": "code",
   "execution_count": 164,
   "metadata": {},
   "outputs": [
    {
     "data": {
      "text/plain": [
       "'katia abreu vai expulsao moldura nao reclamar senadora katia abreu disse expulsao pmdb resultado atual legenda segundo oportunista vou botar moldura porque maos boa conduta curriculo pessoas expulsaram nao servem pais beneficios proprios katia abreu ue expulsao tao bom choradeira motivo provavelmente katia nao valor ja deveria absorvido pt gostava katia pmdb rebaixar demais resta ficar chorando pitangas todos cantos tempo ate momento pt nao katia fileiras situacao patetica dilma'"
      ]
     },
     "execution_count": 164,
     "metadata": {},
     "output_type": "execute_result"
    }
   ],
   "source": [
    "aug_remove_words(sample_text)"
   ]
  },
  {
   "cell_type": "markdown",
   "metadata": {},
   "source": [
    "## Switch"
   ]
  },
  {
   "cell_type": "code",
   "execution_count": 165,
   "metadata": {},
   "outputs": [],
   "source": [
    "def aug_swap_words_pos(text,mapping = {},swap_pct = 0.3):\n",
    "\n",
    "    text_splitted = text.split(' ')\n",
    "\n",
    "    max_switchs = int(len(text_splitted)/2)\n",
    "    n_switchs =int(max_switchs*swap_pct)\n",
    "\n",
    "    indexes = list(range(len(text_splitted)))\n",
    "   \n",
    "    for i in range(n_switchs):\n",
    "        aux_indexes = indexes.copy()\n",
    "            \n",
    "        split_index_1 = random.randint(0,len(aux_indexes)-1)\n",
    "        index_1 = aux_indexes[split_index_1]\n",
    "        a = copy(text_splitted[split_index_1])\n",
    "        del aux_indexes[split_index_1]\n",
    "\n",
    "        split_index_2 = random.randint(0,len(aux_indexes)-1)\n",
    "        index_2 = aux_indexes[split_index_2]\n",
    "        b = copy(text_splitted[index_2])\n",
    "        del aux_indexes[split_index_2]\n",
    "\n",
    "        text_splitted[split_index_1] = b\n",
    "        text_splitted[split_index_2] = a\n",
    "    \n",
    "    return ' '.join(text_splitted)"
   ]
  },
  {
   "cell_type": "code",
   "execution_count": 166,
   "metadata": {},
   "outputs": [
    {
     "data": {
      "text/plain": [
       "'katia katia diz vai cupula expulsao moldura nao reclamar senadora katia abreu botar expulsao pmdb expulsaram pt cupula tempo legenda segundo oportunista amanha vou nao chorando dourada beneficios porque maos onde veio atestado boa conduta curriculo pessoas motivo abreu servem pais servem expulsao beneficios proprios disse disse abreu ue expulsao algo tao bom curriculo tanta choradeira katia sabemos resultado provavelmente katia nao ate pt partido ja deveria absorvido parece entrincheirada abreu katia somente colocar entrincheirada dentro pmdb rebaixar demais resta katia ficar moldura pitangas todos cantos atual valor momento pt nao cadastrou katia abreu fileiras situacao patetica agricultura dilma'"
      ]
     },
     "execution_count": 166,
     "metadata": {},
     "output_type": "execute_result"
    }
   ],
   "source": [
    "aug_swap_words_pos(sample_text)"
   ]
  },
  {
   "cell_type": "markdown",
   "metadata": {},
   "source": [
    "## Replace by synonym"
   ]
  },
  {
   "cell_type": "code",
   "execution_count": 167,
   "metadata": {},
   "outputs": [],
   "source": [
    "mapping = {\n",
    "    'beneficios':['beneficios_1','beneficios_2','beneficios_3'],\n",
    "    'katia':['katia_1','katia_2','katia_3'],\n",
    "    'curriculo':['curriculo_1','curriculo_2','curriculo_3'],\n",
    "    'dourada':['dourada_1','dourada_2','dourada_3'],\n",
    "}"
   ]
  },
  {
   "cell_type": "code",
   "execution_count": 168,
   "metadata": {},
   "outputs": [],
   "source": [
    "def aug_replace_by_synonym(text,mapping,replace_pct=0.3):\n",
    "    text_splitted = text.split(' ')\n",
    "\n",
    "    aux = 0\n",
    "    keys = mapping.keys()\n",
    "\n",
    "    # Get only words indexes inside synonyms base\n",
    "    changeable_words = []\n",
    "    for word in text_splitted:\n",
    "        if word in keys:\n",
    "            changeable_words.append(aux)\n",
    "        aux+=1\n",
    "\n",
    "    n = len(changeable_words)\n",
    "    n_max = n*replace_pct\n",
    "\n",
    "    words_replaced = 0\n",
    "    # Change randomly the word by one synonym\n",
    "    if len(changeable_words)>0:\n",
    "        resampled_words = random.sample(changeable_words,len(changeable_words))\n",
    "        for word_index in resampled_words:\n",
    "            synonyms = mapping[text_splitted[word_index]]\n",
    "            text_splitted[word_index] = random.choice(synonyms)\n",
    "            words_replaced+=1\n",
    "            \n",
    "            if words_replaced >= n_max:\n",
    "                break\n",
    "                \n",
    "    return ' '.join(text_splitted)"
   ]
  },
  {
   "cell_type": "code",
   "execution_count": 169,
   "metadata": {},
   "outputs": [
    {
     "data": {
      "text/plain": [
       "'katia abreu diz vai colocar expulsao moldura nao reclamar senadora katia_3 abreu disse expulsao pmdb resultado acao cupula atual legenda segundo oportunista amanha vou botar moldura dourada_1 expulsao porque maos onde veio atestado boa conduta curriculo_2 pessoas expulsaram nao servem pais servem pais beneficios_1 proprios disse katia abreu ue expulsao algo tao bom curriculo tanta choradeira katia_2 sabemos motivo provavelmente katia_3 nao valor pt partido ja deveria absorvido parece pt gostava katia somente ficasse entrincheirada dentro pmdb rebaixar demais resta katia ficar chorando pitangas todos cantos tempo ate momento pt nao cadastrou katia abreu fileiras situacao patetica agricultura dilma'"
      ]
     },
     "execution_count": 169,
     "metadata": {},
     "output_type": "execute_result"
    }
   ],
   "source": [
    "aug_replace_by_synonym(sample_text,mapping,0.5)"
   ]
  },
  {
   "cell_type": "markdown",
   "metadata": {},
   "source": [
    "## Insert Synonyms"
   ]
  },
  {
   "cell_type": "code",
   "execution_count": 170,
   "metadata": {},
   "outputs": [],
   "source": [
    "def aug_insert_by_synonym(text,mapping,replace_pct=0.3):\n",
    "    text_splitted = text.split(' ')\n",
    "\n",
    "    aux = 0\n",
    "    keys = mapping.keys()\n",
    "\n",
    "    # Get only words indexes inside synonyms base\n",
    "    changeable_words = []\n",
    "    for word in text_splitted:\n",
    "        if word in keys:\n",
    "            changeable_words.append(word)\n",
    "\n",
    "    n = len(text_splitted)\n",
    "    n_max = int(n*replace_pct)\n",
    "\n",
    "    words_replaced = 0\n",
    "    # Insert randomly a word by one synonym\n",
    "    if len(changeable_words)>0:\n",
    "        single_words = list(set(changeable_words))\n",
    "        \n",
    "        for i in range(n_max):\n",
    "            word = random.choice(single_words)\n",
    "            synonyms = mapping[word]\n",
    "            pos = random.randint(0,len(text_splitted))\n",
    "            \n",
    "            text_splitted.insert(pos,random.choice(synonyms))\n",
    "                \n",
    "    return ' '.join(text_splitted)"
   ]
  },
  {
   "cell_type": "code",
   "execution_count": 171,
   "metadata": {},
   "outputs": [
    {
     "data": {
      "text/plain": [
       "'katia abreu diz vai colocar expulsao moldura beneficios_2 katia_1 nao reclamar senadora katia abreu disse expulsao pmdb resultado acao cupula atual legenda segundo oportunista amanha vou botar moldura dourada_3 dourada expulsao porque maos onde veio atestado boa conduta curriculo pessoas expulsaram nao servem pais servem pais beneficios proprios disse katia abreu ue expulsao algo curriculo_2 tao bom curriculo tanta choradeira katia sabemos motivo provavelmente katia nao valor pt partido ja deveria absorvido parece pt gostava dourada_3 dourada_2 katia somente beneficios_1 ficasse katia_2 entrincheirada dentro pmdb rebaixar demais resta katia ficar chorando curriculo_1 pitangas todos cantos tempo ate momento pt nao cadastrou katia abreu fileiras situacao patetica agricultura dilma'"
      ]
     },
     "execution_count": 171,
     "metadata": {},
     "output_type": "execute_result"
    }
   ],
   "source": [
    "aug_insert_by_synonym(sample_text,mapping,replace_pct=0.1)"
   ]
  },
  {
   "cell_type": "code",
   "execution_count": 172,
   "metadata": {},
   "outputs": [
    {
     "data": {
      "text/plain": [
       "'katia abreu diz vai colocar expulsao moldura nao reclamar senadora katia abreu disse expulsao pmdb resultado acao cupula atual legenda segundo oportunista amanha vou botar moldura dourada expulsao porque maos onde veio atestado boa conduta curriculo pessoas expulsaram nao servem pais servem pais beneficios proprios disse katia abreu ue expulsao algo tao bom curriculo tanta choradeira katia sabemos motivo provavelmente katia nao valor pt partido ja deveria absorvido parece pt gostava katia somente ficasse entrincheirada dentro pmdb rebaixar demais resta katia ficar chorando pitangas todos cantos tempo ate momento pt nao cadastrou katia abreu fileiras situacao patetica agricultura dilma'"
      ]
     },
     "execution_count": 172,
     "metadata": {},
     "output_type": "execute_result"
    }
   ],
   "source": [
    "sample_text"
   ]
  },
  {
   "cell_type": "code",
   "execution_count": 173,
   "metadata": {},
   "outputs": [],
   "source": [
    "import pandas as pd"
   ]
  },
  {
   "cell_type": "code",
   "execution_count": 174,
   "metadata": {},
   "outputs": [],
   "source": [
    "path = 'Fake.br-Corpus/preprocessed/' + 'pre-processed.csv'\n",
    "\n",
    "df = pd.read_csv(path,index_col=0)"
   ]
  },
  {
   "cell_type": "code",
   "execution_count": 176,
   "metadata": {},
   "outputs": [],
   "source": [
    "def apply_aug(text,mapping):\n",
    "    functions = [aug_remove_words,aug_swap_words_pos,aug_replace_by_synonym,aug_insert_by_synonym]\n",
    "    func_chosen = random.choice(functions)\n",
    "    \n",
    "    text_augmented = func_chosen(text,mapping = mapping)\n",
    "    return text_augmented"
   ]
  },
  {
   "cell_type": "code",
   "execution_count": 182,
   "metadata": {},
   "outputs": [
    {
     "data": {
      "text/plain": [
       "'katia abreu diz vai colocar expulsao moldura nao reclamar senadora katia abreu disse expulsao pmdb resultado acao cupula atual legenda segundo oportunista amanha vou botar moldura dourada_3 expulsao porque maos onde veio atestado boa conduta curriculo pessoas expulsaram nao servem pais servem pais beneficios proprios disse katia_3 abreu ue expulsao algo tao bom curriculo_2 tanta choradeira katia sabemos motivo provavelmente katia nao valor pt partido ja deveria absorvido parece pt gostava katia somente ficasse entrincheirada dentro pmdb rebaixar demais resta katia_1 ficar chorando pitangas todos cantos tempo ate momento pt nao cadastrou katia abreu fileiras situacao patetica agricultura dilma'"
      ]
     },
     "execution_count": 182,
     "metadata": {},
     "output_type": "execute_result"
    }
   ],
   "source": [
    "apply_aug(sample_text,mapping)"
   ]
  },
  {
   "cell_type": "code",
   "execution_count": null,
   "metadata": {},
   "outputs": [],
   "source": []
  }
 ],
 "metadata": {
  "kernelspec": {
   "display_name": "Python 3",
   "language": "python",
   "name": "python3"
  },
  "language_info": {
   "codemirror_mode": {
    "name": "ipython",
    "version": 3
   },
   "file_extension": ".py",
   "mimetype": "text/x-python",
   "name": "python",
   "nbconvert_exporter": "python",
   "pygments_lexer": "ipython3",
   "version": "3.8.3"
  }
 },
 "nbformat": 4,
 "nbformat_minor": 4
}
